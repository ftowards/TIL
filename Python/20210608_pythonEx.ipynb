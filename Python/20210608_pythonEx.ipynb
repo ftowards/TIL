{
 "cells": [
  {
   "cell_type": "markdown",
   "id": "6b17f412",
   "metadata": {},
   "source": [
    "# Multiples of 3 and 5\n",
    "\n",
    "If we list all the natural numbers below 10 that are multiples of 3 or 5, we get 3, 5, 6 and 9. The sum of these multiples is 23.\n",
    "\n",
    "Find the sum of all the multiples of 3 or 5 below 1000."
   ]
  },
  {
   "cell_type": "code",
   "execution_count": 12,
   "id": "9b811c4a",
   "metadata": {},
   "outputs": [
    {
     "data": {
      "text/plain": [
       "234168"
      ]
     },
     "execution_count": 12,
     "metadata": {},
     "output_type": "execute_result"
    }
   ],
   "source": [
    "sum = 0\n",
    "\n",
    "for i in range(1, 1001):\n",
    "    if i%3 == 0 or i%5 == 0 :\n",
    "        sum = sum + i\n",
    "        \n",
    "sum"
   ]
  },
  {
   "cell_type": "markdown",
   "id": "ec51a7ac",
   "metadata": {},
   "source": [
    "# 탭을 공백 문자로 바꾸기\n",
    "\n",
    "A씨는 개발된 소스코드를 특정업체에 납품하려고 한다. 개발된 소스코드들은 탭으로 들여쓰기가 된것, 공백으로 들여쓰기가 된 것들이 섞여 있다고 한다. A씨는 탭으로 들여쓰기가 된 모든 소스를 공백 4개로 수정한 후 납품할 예정이다.\n",
    "\n",
    "A씨를 도와줄 수 있도록 소스코드내에 사용된 탭(Tab) 문자를 공백 4개(4 space)로 바꾸어 주는 프로그램을 작성하시오."
   ]
  },
  {
   "cell_type": "code",
   "execution_count": null,
   "id": "eba3e46c",
   "metadata": {},
   "outputs": [],
   "source": []
  },
  {
   "cell_type": "markdown",
   "id": "f8e98e23",
   "metadata": {},
   "source": [
    "# 게시판 페이징\n",
    "\n",
    "A씨는 게시판 프로그램을 작성하고 있다.\n",
    "\n",
    "A씨는 게시물의 총 건수와 한 페이지에 보여줄 게시물수를 입력으로 주었을 때 총 페이지수를 리턴하는 프로그램이 필요하다고 한다.\n",
    "\n",
    "입력 : 총건수(m), 한페이지에 보여줄 게시물수(n) (단 n은 1보다 크거나 같다. n >= 1)\n",
    "출력 : 총페이지수\n",
    "\n",
    "A씨가 필요한 프로그램을 작성하시오."
   ]
  },
  {
   "cell_type": "code",
   "execution_count": 20,
   "id": "373bb7f6",
   "metadata": {},
   "outputs": [
    {
     "name": "stdout",
     "output_type": "stream",
     "text": [
      "총 건수 : 11\n",
      "페이지 게시물 수 : 10\n",
      "총 페이지 수 : 2\n"
     ]
    }
   ],
   "source": [
    "r = int(input(\"총 건수 : \"))\n",
    "o = int(input(\"페이지 게시물 수 : \"))\n",
    "\n",
    "page = 0\n",
    "\n",
    "if r%o == 0 :\n",
    "    page = r/o\n",
    "elif r%o != 0 :\n",
    "    page = r/o + 1\n",
    "\n",
    "print(\"총 페이지 수 : \" + str(int(page)))"
   ]
  },
  {
   "cell_type": "markdown",
   "id": "d92d0cea",
   "metadata": {},
   "source": [
    "# 주어진 문자열(공백 없이 쉼표로 구분되어 있음)을 가지고 아래 문제에 대한 프로그램을 작성하세요.\n",
    "\n",
    "이유덕,이재영,권종표,이재영,박민호,강상희,이재영,김지완,최승혁,이성연,박영서,박민호,전경헌,송정환,김재성,이유덕,전경헌\n",
    "\n",
    "* 김씨와 이씨는 각각 몇 명 인가요?\n",
    "* \"이재영\"이란 이름이 몇 번 반복되나요?\n",
    "* 중복을 제거한 이름을 출력하세요.\n",
    "* 중복을 제거한 이름을 오름차순으로 정렬하여 출력하세요."
   ]
  },
  {
   "cell_type": "code",
   "execution_count": 41,
   "id": "7642edc4",
   "metadata": {},
   "outputs": [
    {
     "name": "stdout",
     "output_type": "stream",
     "text": [
      "1. 김씨 :  2  , 이씨 :  6\n",
      "2. 이재영 :  3  회\n",
      "3. ['이유덕', '이재영', '권종표', '박민호', '강상희', '김지완', '최승혁', '이성연', '박영서', '전경헌', '송정환', '김재성']\n",
      "4. ['강상희', '권종표', '김재성', '김지완', '박민호', '박영서', '송정환', '이성연', '이유덕', '이재영', '전경헌', '최승혁']\n"
     ]
    }
   ],
   "source": [
    "txt = \"이유덕,이재영,권종표,이재영,박민호,강상희,이재영,김지완,최승혁,이성연,박영서,박민호,전경헌,송정환,김재성,이유덕,전경헌\"\n",
    "\n",
    "list = txt.split(\",\")\n",
    "\n",
    "kim = 0\n",
    "lee = 0\n",
    "\n",
    "for i in list :\n",
    "    if i[0:1] == \"김\" :\n",
    "        kim = kim + 1\n",
    "    elif i[0:1] == \"이\" :\n",
    "        lee = lee + 1\n",
    "\n",
    "print(\"1. 김씨 : \" ,kim , \" , 이씨 : \", lee )\n",
    "\n",
    "ljy = 0\n",
    "\n",
    "for j in list :\n",
    "    if j == \"이재영\" :\n",
    "        ljy = ljy + 1\n",
    "\n",
    "print(\"2. 이재영 : \" , ljy , \" 회\")\n",
    "\n",
    "list2 = []\n",
    "for k in list : \n",
    "    if k not in list2 :\n",
    "        list2.append(k)\n",
    "\n",
    "print(\"3.\", list2)\n",
    "        \n",
    "list2.sort(reverse = False)\n",
    "print(\"4.\", list2)\n"
   ]
  },
  {
   "cell_type": "markdown",
   "id": "c254c356",
   "metadata": {},
   "source": [
    "# Special Sort\n",
    "출처 : http://www.careercup.com/question?id=5201559730257920\n",
    "\n",
    "구글 전화면접 문제\n",
    "\n",
    "n개의 정수를 가진 배열이 있다. 이 배열은 양의정수와 음의 정수를 모두 가지고 있다. 이제 당신은 이 배열을 좀 특별한 방법으로 정렬해야 한다.\n",
    "\n",
    "정렬이 되고 난 후, 음의 정수는 앞쪽에 양의정수는 뒷쪽에 있어야 한다. 또한 양의정수와 음의정수의 순서에는 변함이 없어야 한다.\n",
    "\n",
    "예. -1 1 3 -2 2 ans: -1 -2 1 3 2."
   ]
  },
  {
   "cell_type": "code",
   "execution_count": 43,
   "id": "bc08af90",
   "metadata": {},
   "outputs": [
    {
     "name": "stdout",
     "output_type": "stream",
     "text": [
      "[-1, -2, 1, 3, 2]\n"
     ]
    }
   ],
   "source": [
    "num = [-1, 1, 3, -2, 2]\n",
    "\n",
    "min = []\n",
    "plus = []\n",
    "\n",
    "for i in num :\n",
    "    if i > 0 :\n",
    "        plus.append(i)\n",
    "    elif i < 0 :\n",
    "        min.append(i)\n",
    "\n",
    "list = min + plus\n",
    "\n",
    "print(list)"
   ]
  },
  {
   "cell_type": "markdown",
   "id": "e2f260be",
   "metadata": {},
   "source": [
    "# 피보나치 수열 구하기\n",
    "\n",
    "피보나치 수열이란, 첫 번째 항의 값이 0이고 두 번째 항의 값이 1일 때, 이후의 항들은 이전의 두 항을 더한 값으로 이루어지는 수열을 말한다.\n",
    "\n",
    "예) 0, 1, 1, 2, 3, 5, 8, 13\n",
    "\n",
    "인풋을 정수 n으로 받았을때, n 이하까지의 피보나치 수열을 출력하는 프로그램을 작성하세요"
   ]
  },
  {
   "cell_type": "code",
   "execution_count": 92,
   "id": "4bf4d18b",
   "metadata": {},
   "outputs": [
    {
     "name": "stdout",
     "output_type": "stream",
     "text": [
      "2 이상 정수를 입력하세요 : 14\n",
      "[0, 1, 1, 2, 3, 5, 8, 13]\n"
     ]
    }
   ],
   "source": [
    "n = int(input(\"2 이상 정수를 입력하세요 : \"))\n",
    "\n",
    "num_list = [0, 1]\n",
    "\n",
    "while n <= 1 :\n",
    "    n = int(input(\"2 이상의 양의 정수를 입력하세요. : \"))\n",
    "\n",
    "while n >= (num_list[-2] + num_list[-1]) :\n",
    "    num_list.append(num_list[-2]+ num_list[-1])\n",
    "\n",
    "print(num_list)"
   ]
  },
  {
   "cell_type": "markdown",
   "id": "3e908352",
   "metadata": {},
   "source": [
    "# 3이 나타나는 시간을 전부 합하면?\n",
    "\n",
    "디지털 시계에 하루동안(00:00~23:59) 3이 표시되는 시간을 초로 환산하면 총 몇 초(second) 일까요?\n",
    "\n",
    "디지털 시계는 하루동안 다음과 같이 시:분(00:00~23:59)으로 표시됩니다.\n",
    "\n",
    "00:00 (60초간 표시됨)\n",
    "00:01 \n",
    "00:02 \n",
    "...\n",
    "23:59"
   ]
  },
  {
   "cell_type": "code",
   "execution_count": 136,
   "id": "4bbb60c5",
   "metadata": {},
   "outputs": [
    {
     "name": "stdout",
     "output_type": "stream",
     "text": [
      "29700\n"
     ]
    }
   ],
   "source": [
    "second = 0\n",
    "\n",
    "for h in range(24) :\n",
    "    for m in range(60):\n",
    "        if '3' in str(h) or '3' in str(m) :\n",
    "            second += 60\n",
    "\n",
    "print(second)"
   ]
  },
  {
   "cell_type": "markdown",
   "id": "a506b218",
   "metadata": {},
   "source": [
    "# Duplicate Numbers\n",
    "\n",
    "일전에 뭐 게임 회사에서 본 간단한 퀴즈 테스트 입니다.\n",
    "\n",
    "0 ~ 9까지의 문자로 된 숫자를 입력 받았을 때, 이 입력 값이 0 ~ 9까지의 숫자가 각각 한 번 씩만 사용된 것인지 확인하는 함수를 구하시오.\n",
    "\n",
    "sample inputs: 0123456789 01234 01234567890 6789012345 012322456789\n",
    "\n",
    "sample outputs: true false false true false"
   ]
  },
  {
   "cell_type": "code",
   "execution_count": 155,
   "id": "a3a4a1ea",
   "metadata": {},
   "outputs": [
    {
     "name": "stdout",
     "output_type": "stream",
     "text": [
      "sample inputs : 0123456789 01234 01234567890 6789012345 012322456789\n",
      "true false false true false\n"
     ]
    }
   ],
   "source": [
    "n = input(\"inputs : \")\n",
    "\n",
    "answer = []\n",
    "for i in n.split() :\n",
    "    if len(i) != 10 :\n",
    "        answer.append(\"false\")\n",
    "    else :\n",
    "        list = set()\n",
    "        for n in range(len(str(i))) :\n",
    "            list.add(str(i)[n:n+1])\n",
    "            \n",
    "        if len(list) == 10 :\n",
    "            answer.append(\"true\")\n",
    "        else : \n",
    "            answer.append(\"false\")\n",
    "            \n",
    "f = \" \".join(answer)\n",
    "print(\"outputs : \", f)"
   ]
  },
  {
   "cell_type": "markdown",
   "id": "cbe9c4a7",
   "metadata": {},
   "source": [
    "# Printing OXs\n",
    "\n",
    "앞의 문제들 중 비슷한 알고리즘이 있던 것 같지만, 같은 건 없다고 생각해서 올립니다. 문제를 푸는데 많은 approach가 있을 듯 싶습니다. 이 문제의 핵심은 비트 연산을 얼마나 잘 이해하고 있냐이기 때문에 비트 연산으로 풀어주세요.\n",
    "\n",
    "input은 int n을 입력 받아 첫번째 row는 (n-1)의 O와 X, 두번째 row는 (n-2)의 O와 XX, 세번째 row는 (n-3)의 0와 XXX... n번째 row는 n의 X을 출력하시오.\n",
    "\n",
    "입력 예시: 6\n",
    "\n",
    "출력 예시:"
   ]
  },
  {
   "cell_type": "code",
   "execution_count": 163,
   "id": "a5104769",
   "metadata": {},
   "outputs": [
    {
     "name": "stdout",
     "output_type": "stream",
     "text": [
      "정수 입력 : 6\n",
      "OOOOOX\n",
      "OOOOXX\n",
      "OOOXXX\n",
      "OOXXXX\n",
      "OXXXXX\n",
      "XXXXXX\n"
     ]
    }
   ],
   "source": [
    "n = int(input(\"정수 입력 : \"))\n",
    "\n",
    "for i in range(n) :\n",
    "    print(\"O\"*(n-1-i)+\"X\"*(i+1))"
   ]
  }
 ],
 "metadata": {
  "kernelspec": {
   "display_name": "Python 3",
   "language": "python",
   "name": "python3"
  },
  "language_info": {
   "codemirror_mode": {
    "name": "ipython",
    "version": 3
   },
   "file_extension": ".py",
   "mimetype": "text/x-python",
   "name": "python",
   "nbconvert_exporter": "python",
   "pygments_lexer": "ipython3",
   "version": "3.8.8"
  },
  "toc": {
   "base_numbering": 1,
   "nav_menu": {},
   "number_sections": true,
   "sideBar": true,
   "skip_h1_title": false,
   "title_cell": "Table of Contents",
   "title_sidebar": "Contents",
   "toc_cell": false,
   "toc_position": {},
   "toc_section_display": true,
   "toc_window_display": false
  }
 },
 "nbformat": 4,
 "nbformat_minor": 5
}
