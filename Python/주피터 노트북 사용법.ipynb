{
 "cells": [
  {
   "cell_type": "code",
   "execution_count": 1,
   "id": "6e8a1157",
   "metadata": {},
   "outputs": [
    {
     "data": {
      "text/plain": [
       "'C:\\\\Users\\\\choi1\\\\nano-python'"
      ]
     },
     "execution_count": 1,
     "metadata": {},
     "output_type": "execute_result"
    }
   ],
   "source": [
    "%pwd"
   ]
  },
  {
   "cell_type": "markdown",
   "id": "6d1f7249",
   "metadata": {},
   "source": [
    "# 주피터 노트북 사용법\n",
    "\n",
    "## 편집모드\n",
    "* shift + Enter 키를 누르면 셀 실행 + 이동\n",
    "* ctrl + Enter 키 실행\n",
    "* 실행 모드 > 편집 모드  enter\n",
    "\n",
    "## 실행모드 (ESC)\n",
    "* A above 셀 추가\n",
    "* B below 셀 추가\n",
    "* DD 셀 삭제\n",
    "* M 키 문서 셀\n",
    "* Y 키 코드 셀"
   ]
  },
  {
   "cell_type": "code",
   "execution_count": 2,
   "id": "9b35c710",
   "metadata": {},
   "outputs": [
    {
     "data": {
      "text/plain": [
       "1"
      ]
     },
     "execution_count": 2,
     "metadata": {},
     "output_type": "execute_result"
    }
   ],
   "source": [
    "1"
   ]
  },
  {
   "cell_type": "code",
   "execution_count": 3,
   "id": "2d51fdf7",
   "metadata": {},
   "outputs": [
    {
     "data": {
      "text/plain": [
       "3"
      ]
     },
     "execution_count": 3,
     "metadata": {},
     "output_type": "execute_result"
    }
   ],
   "source": [
    "1+2"
   ]
  },
  {
   "cell_type": "code",
   "execution_count": 4,
   "id": "129d79de",
   "metadata": {},
   "outputs": [
    {
     "data": {
      "text/plain": [
       "'AB'"
      ]
     },
     "execution_count": 4,
     "metadata": {},
     "output_type": "execute_result"
    }
   ],
   "source": [
    "\"A\"+\"B\""
   ]
  },
  {
   "cell_type": "code",
   "execution_count": 6,
   "id": "dff2c3c0",
   "metadata": {},
   "outputs": [
    {
     "data": {
      "text/plain": [
       "'Hello World!'"
      ]
     },
     "execution_count": 6,
     "metadata": {},
     "output_type": "execute_result"
    }
   ],
   "source": [
    "\"Hello World!\""
   ]
  },
  {
   "cell_type": "code",
   "execution_count": 9,
   "id": "fbeaf4eb",
   "metadata": {},
   "outputs": [
    {
     "name": "stdout",
     "output_type": "stream",
     "text": [
      " C 드라이브의 볼륨에는 이름이 없습니다.\n",
      " 볼륨 일련 번호: 8602-1F63\n",
      "\n",
      " C:\\Users\\choi1\\nano-python 디렉터리\n",
      "\n",
      "2021-06-08  오후 02:53    <DIR>          .\n",
      "2021-06-08  오후 02:53    <DIR>          ..\n",
      "2021-06-08  오후 02:53    <DIR>          .ipynb_checkpoints\n",
      "2021-06-08  오후 02:53            21,680 0101-python-for-eda-input.ipynb\n",
      "2021-06-08  오후 02:50             3,011 주피터 노트북 사용법.ipynb\n",
      "               2개 파일              24,691 바이트\n",
      "               3개 디렉터리  28,790,251,520 바이트 남음\n"
     ]
    }
   ],
   "source": [
    "%ls"
   ]
  },
  {
   "cell_type": "code",
   "execution_count": 10,
   "id": "d4059bdd",
   "metadata": {},
   "outputs": [
    {
     "name": "stderr",
     "output_type": "stream",
     "text": [
      "UsageError: Line magic function `%mv` not found.\n"
     ]
    }
   ],
   "source": []
  },
  {
   "cell_type": "code",
   "execution_count": null,
   "id": "f77bd8b1",
   "metadata": {},
   "outputs": [],
   "source": []
  }
 ],
 "metadata": {
  "kernelspec": {
   "display_name": "Python 3",
   "language": "python",
   "name": "python3"
  },
  "language_info": {
   "codemirror_mode": {
    "name": "ipython",
    "version": 3
   },
   "file_extension": ".py",
   "mimetype": "text/x-python",
   "name": "python",
   "nbconvert_exporter": "python",
   "pygments_lexer": "ipython3",
   "version": "3.8.8"
  },
  "toc": {
   "base_numbering": 1,
   "nav_menu": {},
   "number_sections": true,
   "sideBar": true,
   "skip_h1_title": false,
   "title_cell": "Table of Contents",
   "title_sidebar": "Contents",
   "toc_cell": false,
   "toc_position": {},
   "toc_section_display": true,
   "toc_window_display": true
  }
 },
 "nbformat": 4,
 "nbformat_minor": 5
}
