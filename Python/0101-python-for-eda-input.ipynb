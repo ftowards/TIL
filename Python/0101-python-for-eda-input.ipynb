{
 "cells": [
  {
   "cell_type": "markdown",
   "metadata": {
    "id": "SyZCC8KXu4F7"
   },
   "source": [
    "* 무료로 공부할 수 있는 파이썬 온라인 자료\n",
    "* [The Python Tutorial — Python documentation](https://docs.python.org/3/tutorial/index.html)\n",
    "* [점프 투 파이썬 - WikiDocs](https://wikidocs.net/book/1)\n",
    "* [강좌: 파이썬 코딩 도장](https://dojang.io/course/view.php?id=7)"
   ]
  },
  {
   "cell_type": "code",
   "execution_count": 1,
   "metadata": {
    "id": "vcAy6b4eUB-g"
   },
   "outputs": [
    {
     "data": {
      "text/plain": [
       "'C:\\\\Users\\\\choi1\\\\nano-python'"
      ]
     },
     "execution_count": 1,
     "metadata": {},
     "output_type": "execute_result"
    }
   ],
   "source": [
    "# 현재 주피터 노트북이 있는 경로\n",
    "%pwd"
   ]
  },
  {
   "cell_type": "markdown",
   "metadata": {
    "id": "h63gKkC2u4F8"
   },
   "source": [
    "## Zen of Python\n",
    "* 파이썬의 철학이 잘 담겨있는 Zen of Python 을 출력해 봅니다.\n",
    "* import를 통해 파이썬의 라이브러리나 패키지를 가져올 수 있습니다."
   ]
  },
  {
   "cell_type": "code",
   "execution_count": 2,
   "metadata": {
    "id": "Pw9s0wNYUB-h"
   },
   "outputs": [
    {
     "name": "stdout",
     "output_type": "stream",
     "text": [
      "The Zen of Python, by Tim Peters\n",
      "\n",
      "Beautiful is better than ugly.\n",
      "Explicit is better than implicit.\n",
      "Simple is better than complex.\n",
      "Complex is better than complicated.\n",
      "Flat is better than nested.\n",
      "Sparse is better than dense.\n",
      "Readability counts.\n",
      "Special cases aren't special enough to break the rules.\n",
      "Although practicality beats purity.\n",
      "Errors should never pass silently.\n",
      "Unless explicitly silenced.\n",
      "In the face of ambiguity, refuse the temptation to guess.\n",
      "There should be one-- and preferably only one --obvious way to do it.\n",
      "Although that way may not be obvious at first unless you're Dutch.\n",
      "Now is better than never.\n",
      "Although never is often better than *right* now.\n",
      "If the implementation is hard to explain, it's a bad idea.\n",
      "If the implementation is easy to explain, it may be a good idea.\n",
      "Namespaces are one honking great idea -- let's do more of those!\n"
     ]
    }
   ],
   "source": [
    "import this"
   ]
  },
  {
   "cell_type": "markdown",
   "metadata": {
    "id": "rOJwlaTou4F_"
   },
   "source": [
    "## boolean\n",
    "* 파이썬에는 명시적인 것이 암시적인 것보다 낫다라는 철학이 있습니다.\n",
    "* True나 False는 0과 1로도 표현할 수 있으나 명시적으로 표현하기 위해 True와 False를 사용합니다."
   ]
  },
  {
   "cell_type": "code",
   "execution_count": 3,
   "metadata": {
    "id": "RuDtOfZgu4GA"
   },
   "outputs": [
    {
     "name": "stdout",
     "output_type": "stream",
     "text": [
      "True\n"
     ]
    }
   ],
   "source": [
    "# True를 출력해 보세요.\n",
    "print(True)"
   ]
  },
  {
   "cell_type": "code",
   "execution_count": 4,
   "metadata": {
    "id": "zLg-pklKu4GC"
   },
   "outputs": [
    {
     "data": {
      "text/plain": [
       "False"
      ]
     },
     "execution_count": 4,
     "metadata": {},
     "output_type": "execute_result"
    }
   ],
   "source": [
    "# False 를 출력해 보세요.\n",
    "False"
   ]
  },
  {
   "cell_type": "code",
   "execution_count": 5,
   "metadata": {
    "id": "PZ3mZmzAu4GE"
   },
   "outputs": [
    {
     "data": {
      "text/plain": [
       "True"
      ]
     },
     "execution_count": 5,
     "metadata": {},
     "output_type": "execute_result"
    }
   ],
   "source": [
    "# True는 1과 같음을 표현해 보세요. 파이썬에서는 같음을 비교할 때 == 연산을 사용합니다.\n",
    "True == 1"
   ]
  },
  {
   "cell_type": "code",
   "execution_count": 6,
   "metadata": {
    "id": "OGlVskRQu4GH"
   },
   "outputs": [
    {
     "data": {
      "text/plain": [
       "True"
      ]
     },
     "execution_count": 6,
     "metadata": {},
     "output_type": "execute_result"
    }
   ],
   "source": [
    "# False는 0과 같음을 표현해 보세요. 파이썬에서는 같음을 비교할 때 == 연산을 사용합니다.\n",
    "False == 0"
   ]
  },
  {
   "cell_type": "code",
   "execution_count": 9,
   "metadata": {
    "id": "zFqsgmRiu4GJ",
    "scrolled": true
   },
   "outputs": [
    {
     "data": {
      "text/plain": [
       "True"
      ]
     },
     "execution_count": 9,
     "metadata": {},
     "output_type": "execute_result"
    }
   ],
   "source": [
    "# 하지만 True는 문자 1과는 다릅니다. 1을 따옴표로 감싸면 문자열이 됩니다.\n",
    "True != '1'"
   ]
  },
  {
   "cell_type": "code",
   "execution_count": 10,
   "metadata": {
    "id": "1_FuZbzVu4GO"
   },
   "outputs": [
    {
     "data": {
      "text/plain": [
       "True"
      ]
     },
     "execution_count": 10,
     "metadata": {},
     "output_type": "execute_result"
    }
   ],
   "source": [
    "# 문자열 1과 True는 다릅니다.\n",
    "'1' != True"
   ]
  },
  {
   "cell_type": "code",
   "execution_count": 11,
   "metadata": {
    "id": "G0o-9sgPu4GP"
   },
   "outputs": [
    {
     "data": {
      "text/plain": [
       "True"
      ]
     },
     "execution_count": 11,
     "metadata": {},
     "output_type": "execute_result"
    }
   ],
   "source": [
    "# False 도 마찬가지 입니다. \n",
    "False != '0'"
   ]
  },
  {
   "cell_type": "code",
   "execution_count": 12,
   "metadata": {
    "id": "LK5kPwdHu4GR"
   },
   "outputs": [
    {
     "data": {
      "text/plain": [
       "True"
      ]
     },
     "execution_count": 12,
     "metadata": {},
     "output_type": "execute_result"
    }
   ],
   "source": [
    "# 문자열 0과 False는 다릅니다.\n",
    "'0' != False"
   ]
  },
  {
   "cell_type": "code",
   "execution_count": 13,
   "metadata": {
    "id": "DTptrWscu4GV"
   },
   "outputs": [
    {
     "data": {
      "text/plain": [
       "True"
      ]
     },
     "execution_count": 13,
     "metadata": {},
     "output_type": "execute_result"
    }
   ],
   "source": [
    "# and 연산으로 True 값 끼리 비교합니다.\n",
    "# and 는 모든 값이 True 일때만 True 가 됩니다.\n",
    "False == 0 and True == 1"
   ]
  },
  {
   "cell_type": "code",
   "execution_count": 14,
   "metadata": {
    "id": "RmRUsZZJu4GW"
   },
   "outputs": [
    {
     "data": {
      "text/plain": [
       "False"
      ]
     },
     "execution_count": 14,
     "metadata": {},
     "output_type": "execute_result"
    }
   ],
   "source": [
    "# and 는 조건 중 하나라도 False 라면 False가 됩니다.\n",
    "True == 1 and False == 1"
   ]
  },
  {
   "cell_type": "code",
   "execution_count": 27,
   "metadata": {
    "id": "O2i9lG5gu4GY",
    "scrolled": true
   },
   "outputs": [
    {
     "data": {
      "text/plain": [
       "True"
      ]
     },
     "execution_count": 27,
     "metadata": {},
     "output_type": "execute_result"
    }
   ],
   "source": [
    "# or 는 하나만 True 라도 True가 됩니다.\n",
    "True == 1 or False == 1\n",
    "True or False or False"
   ]
  },
  {
   "cell_type": "code",
   "execution_count": 28,
   "metadata": {
    "id": "dzC4S7bUUB-n"
   },
   "outputs": [
    {
     "data": {
      "text/plain": [
       "2"
      ]
     },
     "execution_count": 28,
     "metadata": {},
     "output_type": "execute_result"
    }
   ],
   "source": [
    "# True == 1, False == 0 과 같기 때문에 연산을 할 수 있습니다.\n",
    "True + False + True"
   ]
  },
  {
   "cell_type": "markdown",
   "metadata": {
    "id": "thxfIvC6u4Ga"
   },
   "source": [
    "## 숫자\n",
    "* 숫자 1과 문자 \"1\"은 다릅니다. 숫자1과 문자1의 데이터 타입을 출력해 보세요.\n",
    "* 데이터 타입을 표현할 때 type을 통해 데이터를 출력합니다."
   ]
  },
  {
   "cell_type": "code",
   "execution_count": 17,
   "metadata": {
    "id": "g3sIeE7Fu4Ga"
   },
   "outputs": [
    {
     "data": {
      "text/plain": [
       "1"
      ]
     },
     "execution_count": 17,
     "metadata": {},
     "output_type": "execute_result"
    }
   ],
   "source": [
    "# 숫자 1을 출력해 보세요.\n",
    "1"
   ]
  },
  {
   "cell_type": "code",
   "execution_count": 18,
   "metadata": {
    "id": "XtWHQ9x7u4Gc"
   },
   "outputs": [
    {
     "data": {
      "text/plain": [
       "'1'"
      ]
     },
     "execution_count": 18,
     "metadata": {},
     "output_type": "execute_result"
    }
   ],
   "source": [
    "# 문자 1을 출력해 보세요.\n",
    "'1'"
   ]
  },
  {
   "cell_type": "code",
   "execution_count": 19,
   "metadata": {
    "id": "Rk_b3ckDu4Gd"
   },
   "outputs": [
    {
     "data": {
      "text/plain": [
       "int"
      ]
     },
     "execution_count": 19,
     "metadata": {},
     "output_type": "execute_result"
    }
   ],
   "source": [
    "# 숫자 1의 데이터 타입을 출력해 보세요.\n",
    "type(1)"
   ]
  },
  {
   "cell_type": "code",
   "execution_count": 20,
   "metadata": {
    "id": "mx0VpjCJu4Gf"
   },
   "outputs": [
    {
     "data": {
      "text/plain": [
       "str"
      ]
     },
     "execution_count": 20,
     "metadata": {},
     "output_type": "execute_result"
    }
   ],
   "source": [
    "# 문자 1의 데이터 타입을 출력해 보세요.\n",
    "type('1')"
   ]
  },
  {
   "cell_type": "code",
   "execution_count": 21,
   "metadata": {
    "id": "Z0GXx6Seu4Gh"
   },
   "outputs": [
    {
     "data": {
      "text/plain": [
       "False"
      ]
     },
     "execution_count": 21,
     "metadata": {},
     "output_type": "execute_result"
    }
   ],
   "source": [
    "# 문자 1과 숫자 1을 비교합니다.\n",
    "1 == '1'"
   ]
  },
  {
   "cell_type": "markdown",
   "metadata": {
    "id": "AVFDUn9VUB-p"
   },
   "source": [
    "## 변수\n",
    "* 숫자로 시작할 수 없습니다.\n",
    "* 언더바(_)를 제외한 특수문자를 사용할 수 없습니다.\n",
    "\n",
    "|연산자|기능|\n",
    "|--|--|\n",
    "| == | 비교연산 |\n",
    "| = | 할당연산 |"
   ]
  },
  {
   "cell_type": "code",
   "execution_count": 297,
   "metadata": {
    "id": "KbJdR3YSUB-p"
   },
   "outputs": [],
   "source": [
    "a = 1"
   ]
  },
  {
   "cell_type": "code",
   "execution_count": 302,
   "metadata": {
    "id": "2dDctXSuUB-p"
   },
   "outputs": [
    {
     "data": {
      "text/plain": [
       "2"
      ]
     },
     "execution_count": 302,
     "metadata": {},
     "output_type": "execute_result"
    }
   ],
   "source": [
    "b = a + 1\n",
    "b"
   ]
  },
  {
   "cell_type": "code",
   "execution_count": 303,
   "metadata": {
    "id": "Gy58HPbPUB-p"
   },
   "outputs": [
    {
     "data": {
      "text/plain": [
       "False"
      ]
     },
     "execution_count": 303,
     "metadata": {},
     "output_type": "execute_result"
    }
   ],
   "source": [
    "a == b"
   ]
  },
  {
   "cell_type": "code",
   "execution_count": 304,
   "metadata": {
    "id": "8O_QKmBFUB-q"
   },
   "outputs": [
    {
     "ename": "SyntaxError",
     "evalue": "invalid syntax (<ipython-input-304-4f9be9f5655c>, line 1)",
     "output_type": "error",
     "traceback": [
      "\u001b[1;36m  File \u001b[1;32m\"<ipython-input-304-4f9be9f5655c>\"\u001b[1;36m, line \u001b[1;32m1\u001b[0m\n\u001b[1;33m    a- = 1\u001b[0m\n\u001b[1;37m       ^\u001b[0m\n\u001b[1;31mSyntaxError\u001b[0m\u001b[1;31m:\u001b[0m invalid syntax\n"
     ]
    }
   ],
   "source": [
    "a- = 1"
   ]
  },
  {
   "cell_type": "markdown",
   "metadata": {
    "id": "uQ0VMYAbu4Gi"
   },
   "source": [
    "## 문자열\n",
    "* https://docs.python.org/3/tutorial/introduction.html#strings"
   ]
  },
  {
   "cell_type": "code",
   "execution_count": 305,
   "metadata": {
    "id": "-OvGEhqDu4Gj"
   },
   "outputs": [
    {
     "data": {
      "text/plain": [
       "'Hello World!'"
      ]
     },
     "execution_count": 305,
     "metadata": {},
     "output_type": "execute_result"
    }
   ],
   "source": [
    "# \"Hello World!\" 를 출력해 봅니다.\n",
    "\"Hello World!\""
   ]
  },
  {
   "cell_type": "code",
   "execution_count": 306,
   "metadata": {
    "id": "oMtc_WJ4u4Gq"
   },
   "outputs": [],
   "source": [
    "# til 이라는 변수에 문자열을 담아봅니다.\n",
    "til = \"Today I Learned\""
   ]
  },
  {
   "cell_type": "code",
   "execution_count": 311,
   "metadata": {
    "id": "JhIeu_N1u4Gs"
   },
   "outputs": [
    {
     "data": {
      "text/plain": [
       "'today i learned'"
      ]
     },
     "execution_count": 311,
     "metadata": {},
     "output_type": "execute_result"
    }
   ],
   "source": [
    "# 소문자로 만들어 보세요.\n",
    "til.lower()"
   ]
  },
  {
   "cell_type": "code",
   "execution_count": 312,
   "metadata": {
    "id": "e8u1oAlSu4Gu"
   },
   "outputs": [
    {
     "data": {
      "text/plain": [
       "'TODAY I LEARNED'"
      ]
     },
     "execution_count": 312,
     "metadata": {},
     "output_type": "execute_result"
    }
   ],
   "source": [
    "# 대문자로 만들어 보세요.\n",
    "til.upper()"
   ]
  },
  {
   "cell_type": "code",
   "execution_count": 313,
   "metadata": {
    "id": "DBQdb_y9u4Gm"
   },
   "outputs": [
    {
     "data": {
      "text/plain": [
       "'서울특별시 강남구 역삼동 강남대로94길 15 S2빌딩 3층'"
      ]
     },
     "execution_count": 313,
     "metadata": {},
     "output_type": "execute_result"
    }
   ],
   "source": [
    "# 주소 \"서울특별시 강남구 역삼동 강남대로94길 15 S2빌딩 3층\" 을 출력해 봅니다.\n",
    "\"서울특별시 강남구 역삼동 강남대로94길 15 S2빌딩 3층\""
   ]
  },
  {
   "cell_type": "code",
   "execution_count": 315,
   "metadata": {
    "id": "fQ3rmQu_u4Ic"
   },
   "outputs": [],
   "source": [
    "# 주소를 address 변수에 담습니다.\n",
    "address = \" 서울특별시 강남구 역삼동 강남대로94길 15 S2빌딩 3층\""
   ]
  },
  {
   "cell_type": "code",
   "execution_count": 323,
   "metadata": {
    "id": "IwTHf9Nau4Id"
   },
   "outputs": [
    {
     "name": "stdout",
     "output_type": "stream",
     "text": [
      "Object ` address.strip()` not found.\n"
     ]
    }
   ],
   "source": [
    "# strip 메소드를 사용해 공백을 제거합니다.\n",
    "# () shift + tab >> 도움말\n",
    "\n",
    "address.strip()\n",
    "\n",
    "# ? docstring\n",
    "# ?? source code"
   ]
  },
  {
   "cell_type": "code",
   "execution_count": 330,
   "metadata": {},
   "outputs": [],
   "source": [
    "address.strip?\n",
    "address.strip??"
   ]
  },
  {
   "cell_type": "markdown",
   "metadata": {
    "id": "HS0PHGtuUB-r"
   },
   "source": [
    "### 문자열의 인덱싱과 슬라이싱"
   ]
  },
  {
   "cell_type": "code",
   "execution_count": 331,
   "metadata": {
    "id": "VQ0tyPqEUB-r"
   },
   "outputs": [
    {
     "data": {
      "text/plain": [
       "'T'"
      ]
     },
     "execution_count": 331,
     "metadata": {},
     "output_type": "execute_result"
    }
   ],
   "source": [
    "# 인덱싱으로 문자 가져오기\n",
    "til[0]"
   ]
  },
  {
   "cell_type": "code",
   "execution_count": 332,
   "metadata": {
    "id": "jNkw8cRNUB-r"
   },
   "outputs": [
    {
     "data": {
      "text/plain": [
       "'d'"
      ]
     },
     "execution_count": 332,
     "metadata": {},
     "output_type": "execute_result"
    }
   ],
   "source": [
    "# 인덱싱으로 문자 가져오기\n",
    "til[-1]"
   ]
  },
  {
   "cell_type": "code",
   "execution_count": 339,
   "metadata": {
    "id": "IQP1SfqQUB-r"
   },
   "outputs": [
    {
     "data": {
      "text/plain": [
       "'Today'"
      ]
     },
     "execution_count": 339,
     "metadata": {},
     "output_type": "execute_result"
    }
   ],
   "source": [
    "# 슬라이싱으로 문자 가져오기\n",
    "til[0:5]"
   ]
  },
  {
   "cell_type": "code",
   "execution_count": 343,
   "metadata": {},
   "outputs": [
    {
     "data": {
      "text/plain": [
       "'Learned'"
      ]
     },
     "execution_count": 343,
     "metadata": {},
     "output_type": "execute_result"
    }
   ],
   "source": [
    "til[-7:]"
   ]
  },
  {
   "cell_type": "markdown",
   "metadata": {
    "id": "-mqoFD_Bu4Gv"
   },
   "source": [
    "## 리스트\n",
    "\n",
    "* https://docs.python.org/3/tutorial/introduction.html#lists"
   ]
  },
  {
   "cell_type": "code",
   "execution_count": 345,
   "metadata": {
    "id": "gBs9rXH1u4Gw"
   },
   "outputs": [
    {
     "data": {
      "text/plain": [
       "[]"
      ]
     },
     "execution_count": 345,
     "metadata": {},
     "output_type": "execute_result"
    }
   ],
   "source": [
    "# 비어있는 리스트를 만듭니다.\n",
    "[]"
   ]
  },
  {
   "cell_type": "code",
   "execution_count": 346,
   "metadata": {
    "id": "Z7b_tyF-u4Gz"
   },
   "outputs": [
    {
     "data": {
      "text/plain": [
       "['소화제', '감기약']"
      ]
     },
     "execution_count": 346,
     "metadata": {},
     "output_type": "execute_result"
    }
   ],
   "source": [
    "# 소화제, 감기약을 원소에 추가합니다.\n",
    "['소화제', '감기약']"
   ]
  },
  {
   "cell_type": "code",
   "execution_count": 348,
   "metadata": {
    "id": "d_gEiecpu4G0"
   },
   "outputs": [],
   "source": [
    "# medicine 라는 변수에 해열제를 담아봅니다.\n",
    "medicine = [\"소화제\", \"감기약 \", \"비타민\", \"해열제\"]"
   ]
  },
  {
   "cell_type": "markdown",
   "metadata": {
    "id": "Vz8h1twxUB-s"
   },
   "source": [
    "### 리스트에 원소 추가 삭제하기"
   ]
  },
  {
   "cell_type": "code",
   "execution_count": 349,
   "metadata": {
    "id": "ICkz4KpyUB-s"
   },
   "outputs": [],
   "source": [
    "# append 로 \"마그네슘\" 원소 추가하기\n",
    "medicine.append(\"마그네슘\")"
   ]
  },
  {
   "cell_type": "code",
   "execution_count": 357,
   "metadata": {},
   "outputs": [
    {
     "data": {
      "text/plain": [
       "['소화제', '감기약 ', '해열제', '마그네슘']"
      ]
     },
     "execution_count": 357,
     "metadata": {},
     "output_type": "execute_result"
    }
   ],
   "source": [
    "medicine"
   ]
  },
  {
   "cell_type": "code",
   "execution_count": 351,
   "metadata": {
    "id": "lNfk_tTeUB-t"
   },
   "outputs": [
    {
     "data": {
      "text/plain": [
       "['소화제', '감기약 ', '해열제', '마그네슘']"
      ]
     },
     "execution_count": 351,
     "metadata": {},
     "output_type": "execute_result"
    }
   ],
   "source": [
    "# remove 로 원소 삭제하기\n",
    "medicine.remove(\"비타민\")\n",
    "medicine"
   ]
  },
  {
   "cell_type": "markdown",
   "metadata": {
    "id": "V3qcqBVlUB-t"
   },
   "source": [
    "### 리스트의 인덱싱"
   ]
  },
  {
   "cell_type": "code",
   "execution_count": 352,
   "metadata": {
    "id": "S4bDtbwSu4Hf"
   },
   "outputs": [
    {
     "data": {
      "text/plain": [
       "'소화제'"
      ]
     },
     "execution_count": 352,
     "metadata": {},
     "output_type": "execute_result"
    }
   ],
   "source": [
    "# medicine 라는 변수에 담겨있는 소화제를 인덱싱을 통해 가져옵니다.\n",
    "medicine[0]"
   ]
  },
  {
   "cell_type": "code",
   "execution_count": 353,
   "metadata": {
    "id": "lxOQZ7ARu4Hh"
   },
   "outputs": [
    {
     "data": {
      "text/plain": [
       "'감기약 '"
      ]
     },
     "execution_count": 353,
     "metadata": {},
     "output_type": "execute_result"
    }
   ],
   "source": [
    "# 1번 인덱스를 가져옵니다.\n",
    "medicine[1]"
   ]
  },
  {
   "cell_type": "code",
   "execution_count": 354,
   "metadata": {
    "id": "U-qvdep2u4Hi"
   },
   "outputs": [
    {
     "data": {
      "text/plain": [
       "'마그네슘'"
      ]
     },
     "execution_count": 354,
     "metadata": {},
     "output_type": "execute_result"
    }
   ],
   "source": [
    "# 마지막 인덱스를 가져옵니다.\n",
    "medicine[-1]"
   ]
  },
  {
   "cell_type": "code",
   "execution_count": 355,
   "metadata": {},
   "outputs": [
    {
     "data": {
      "text/plain": [
       "'마그네슘'"
      ]
     },
     "execution_count": 355,
     "metadata": {},
     "output_type": "execute_result"
    }
   ],
   "source": [
    "medicine[len(medicine)-1]"
   ]
  },
  {
   "cell_type": "markdown",
   "metadata": {
    "id": "eeoGFB_3UB-t"
   },
   "source": [
    "### 문자열을 리스트로 만들기"
   ]
  },
  {
   "cell_type": "code",
   "execution_count": 368,
   "metadata": {
    "id": "mwjqS50uu4Ij"
   },
   "outputs": [
    {
     "data": {
      "text/plain": [
       "['서울특별시', '강남구', '역삼동', '강남대로94길', '15', 'S2빌딩', '3층']"
      ]
     },
     "execution_count": 368,
     "metadata": {},
     "output_type": "execute_result"
    }
   ],
   "source": [
    "# split을 사용해 address를 공백으로 문자열 분리하고 address_list 라는 변수에 담습니다.\n",
    "address_list = address.split()\n",
    "address_list"
   ]
  },
  {
   "cell_type": "code",
   "execution_count": 359,
   "metadata": {
    "id": "iD1Tajf9UB-u"
   },
   "outputs": [
    {
     "data": {
      "text/plain": [
       "32"
      ]
     },
     "execution_count": 359,
     "metadata": {},
     "output_type": "execute_result"
    }
   ],
   "source": [
    "# 문자열의 길이\n",
    "len(address)"
   ]
  },
  {
   "cell_type": "code",
   "execution_count": 360,
   "metadata": {
    "id": "f5JSmxlEu4Ik"
   },
   "outputs": [
    {
     "data": {
      "text/plain": [
       "7"
      ]
     },
     "execution_count": 360,
     "metadata": {},
     "output_type": "execute_result"
    }
   ],
   "source": [
    "# 리스트의 길이\n",
    "len(address_list)"
   ]
  },
  {
   "cell_type": "code",
   "execution_count": 361,
   "metadata": {
    "id": "GEdFX_NiUB-u"
   },
   "outputs": [
    {
     "data": {
      "text/plain": [
       "'서울특별시'"
      ]
     },
     "execution_count": 361,
     "metadata": {},
     "output_type": "execute_result"
    }
   ],
   "source": [
    "# 인덱싱으로 서울특별시만 가져옵니다.\n",
    "address_list[0]"
   ]
  },
  {
   "cell_type": "code",
   "execution_count": 362,
   "metadata": {
    "id": "y7fRRmL-UB-u"
   },
   "outputs": [
    {
     "data": {
      "text/plain": [
       "'강남구'"
      ]
     },
     "execution_count": 362,
     "metadata": {},
     "output_type": "execute_result"
    }
   ],
   "source": [
    "# 인덱싱으로 강남구만 가져옵니다.\n",
    "address_list[1]"
   ]
  },
  {
   "cell_type": "code",
   "execution_count": 371,
   "metadata": {
    "id": "T4lJk6epUB-u",
    "scrolled": true
   },
   "outputs": [
    {
     "data": {
      "text/plain": [
       "'강남구'"
      ]
     },
     "execution_count": 371,
     "metadata": {},
     "output_type": "execute_result"
    }
   ],
   "source": [
    "# 슬라이싱으로 \"강남구\" 만 가져오기\n",
    "# [시작인덱스:끝나는인덱스+1]\n",
    "address[6:9]"
   ]
  },
  {
   "cell_type": "code",
   "execution_count": 366,
   "metadata": {
    "id": "w0LVQ0sVu4I8"
   },
   "outputs": [
    {
     "data": {
      "text/plain": [
       "False"
      ]
     },
     "execution_count": 366,
     "metadata": {},
     "output_type": "execute_result"
    }
   ],
   "source": [
    "# startswith 를 사용하면 특정 문자로 시작하는지 여부를 확인할 수 있습니다.\n",
    "address.startswith(\"서울특별시 ㅇㄻ\")"
   ]
  },
  {
   "cell_type": "markdown",
   "metadata": {
    "id": "zhstE_rAUB-v"
   },
   "source": [
    "### 문자열과 리스트의 in"
   ]
  },
  {
   "cell_type": "code",
   "execution_count": 372,
   "metadata": {
    "id": "_2c2vmgXu4JM"
   },
   "outputs": [
    {
     "data": {
      "text/plain": [
       "True"
      ]
     },
     "execution_count": 372,
     "metadata": {},
     "output_type": "execute_result"
    }
   ],
   "source": [
    "# in 을 사용하게 되면 특정 문자열을 포함하고 있는지 여부를 확인할 수 있습니다.\n",
    "\"서울\" in address"
   ]
  },
  {
   "cell_type": "code",
   "execution_count": 374,
   "metadata": {
    "id": "12Eo1pQ7UB-v"
   },
   "outputs": [
    {
     "data": {
      "text/plain": [
       "True"
      ]
     },
     "execution_count": 374,
     "metadata": {},
     "output_type": "execute_result"
    }
   ],
   "source": [
    "# in 을 사용하게 되면 리스트에 해당 데이터를 포함하고 있는지 여부를 확인할 수 있습니다.\n",
    "# \"서울특별시\"가 리스트에 포함되는지 봅니다.\n",
    "\"서울특별시\" in address_list"
   ]
  },
  {
   "cell_type": "code",
   "execution_count": 375,
   "metadata": {
    "id": "jD7YpL3zu4Ja"
   },
   "outputs": [
    {
     "data": {
      "text/plain": [
       "True"
      ]
     },
     "execution_count": 375,
     "metadata": {},
     "output_type": "execute_result"
    }
   ],
   "source": [
    "# in 을 사용하게 되면 리스트에 해당 데이터를 포함하고 있는지 여부를 확인할 수 있습니다.\n",
    "# \"강남구\"가 리스트에 포함되는지 봅니다.\n",
    "\"강남구\" in address_list"
   ]
  },
  {
   "cell_type": "code",
   "execution_count": 377,
   "metadata": {
    "id": "htAkCAS8UB-v"
   },
   "outputs": [
    {
     "data": {
      "text/plain": [
       "'서울특별시 강남구 역삼동 강남대로94길 15 S2빌딩 3층'"
      ]
     },
     "execution_count": 377,
     "metadata": {},
     "output_type": "execute_result"
    }
   ],
   "source": [
    "# \" \".join(리스트) 를 사용하면 리스트를 공백 문자열을 연결할 수 있습니다.\n",
    "# 리스트로 분리된 문자열을 다시 연결합니다.\n",
    "# add \n",
    "\" \".join(address_list)"
   ]
  },
  {
   "cell_type": "markdown",
   "metadata": {
    "id": "uzFfT5GTu4Js"
   },
   "source": [
    "## 딕셔너리\n",
    "* https://docs.python.org/3/tutorial/datastructures.html#dictionaries"
   ]
  },
  {
   "cell_type": "code",
   "execution_count": 382,
   "metadata": {
    "id": "Nu0xLPYzUB-w"
   },
   "outputs": [],
   "source": [
    "phone = {'서울' : '02',\n",
    "         '경기': '031',\n",
    "         '인천': '032',\n",
    "         '대전': '042',\n",
    "         '부산': '051',\n",
    "         '울산': '052',\n",
    "         '대구': '053',\n",
    "         '광주': '062'}\n"
   ]
  },
  {
   "cell_type": "code",
   "execution_count": 390,
   "metadata": {
    "id": "nTsLLmvwUB-w"
   },
   "outputs": [
    {
     "data": {
      "text/plain": [
       "dict_keys(['서울', '경기', '인천', '대전', '부산', '울산', '대구', '광주'])"
      ]
     },
     "execution_count": 390,
     "metadata": {},
     "output_type": "execute_result"
    }
   ],
   "source": [
    "# \"서울\" 의 값 가져오기\n",
    "#phone.get(\"서울\")\n",
    "phone.keys()"
   ]
  },
  {
   "cell_type": "code",
   "execution_count": 391,
   "metadata": {
    "id": "QERxVTXuUB-w"
   },
   "outputs": [
    {
     "data": {
      "text/plain": [
       "'031'"
      ]
     },
     "execution_count": 391,
     "metadata": {},
     "output_type": "execute_result"
    }
   ],
   "source": [
    "# \"경기\" 의 값 가져오기\n",
    "phone.get(\"경기\")"
   ]
  },
  {
   "cell_type": "code",
   "execution_count": 396,
   "metadata": {
    "id": "_ASt5377UB-w"
   },
   "outputs": [
    {
     "data": {
      "text/plain": [
       "{'서울': '02',\n",
       " '경기': '031',\n",
       " '인천': '032',\n",
       " '대전': '042',\n",
       " '부산': '051',\n",
       " '울산': '052',\n",
       " '대구': '053',\n",
       " '광주': '062',\n",
       " '제주': '063'}"
      ]
     },
     "execution_count": 396,
     "metadata": {},
     "output_type": "execute_result"
    }
   ],
   "source": [
    "# \"제주\" : 063 을 딕셔너리에 추가하기\n",
    "phone[\"제주\"] = '063'\n",
    "phone"
   ]
  },
  {
   "cell_type": "markdown",
   "metadata": {
    "id": "RHfkmxzvu4Hk"
   },
   "source": [
    "##  제어문\n",
    "* 조건문(if)\n",
    "* 반복문(for, while)\n",
    "* [4. More Control Flow Tools — Python documentation](https://docs.python.org/3/tutorial/controlflow.html)\n"
   ]
  },
  {
   "cell_type": "code",
   "execution_count": 397,
   "metadata": {
    "id": "tfVQ095mUB-x",
    "scrolled": true
   },
   "outputs": [
    {
     "name": "stdout",
     "output_type": "stream",
     "text": [
      "0\n",
      "1\n",
      "2\n",
      "3\n",
      "4\n",
      "5\n",
      "6\n",
      "7\n",
      "8\n",
      "9\n"
     ]
    }
   ],
   "source": [
    "# range를 사용하면 for문의 반복수를 지정할 수 있습니다.\n",
    "for i in range(10) :\n",
    "    print(i)"
   ]
  },
  {
   "cell_type": "code",
   "execution_count": 400,
   "metadata": {
    "id": "qStAFS6FUB-x"
   },
   "outputs": [
    {
     "name": "stdout",
     "output_type": "stream",
     "text": [
      "소화제\n",
      "해열제\n",
      "소화제\n",
      "해열제\n",
      "소화제\n"
     ]
    }
   ],
   "source": [
    "# range 를 사용해 5번 for문을 반복하도록 하고 인덱스 번호가 짝수일 때 소화제 홀수 일 때 해열제를 출력하도록 합니다.\n",
    "for i in range(5) :\n",
    "    if i%2 == 0 :\n",
    "        print(\"소화제\")\n",
    "    else :\n",
    "        print(\"해열제\")"
   ]
  },
  {
   "cell_type": "code",
   "execution_count": 401,
   "metadata": {
    "id": "_Pm8aEK7u4Hn",
    "scrolled": false
   },
   "outputs": [
    {
     "name": "stdout",
     "output_type": "stream",
     "text": [
      "소화제\n",
      "감기약 \n",
      "해열제\n",
      "마그네슘\n"
     ]
    }
   ],
   "source": [
    "# 반복문을 통해 medicine이라는 변수에 담긴 리스트의 원소를 하나씩 출력합니다.\n",
    "for medi in medicine :\n",
    "    print(medi)"
   ]
  },
  {
   "cell_type": "code",
   "execution_count": 402,
   "metadata": {
    "id": "H8Ver1cwu4Ho"
   },
   "outputs": [
    {
     "name": "stdout",
     "output_type": "stream",
     "text": [
      "소화제\n",
      "기타\n",
      "기타\n",
      "기타\n"
     ]
    }
   ],
   "source": [
    "# 위 코드에서 소화제일 때는 그대로 출력하고 나머지 텍스트는 \"기타\"라고 출력합니다\n",
    "# 출력 결과가 아래의 순서로 나오도록 합니다.\n",
    "# 소화제\n",
    "# 기타\n",
    "# 기타\n",
    "# for 변수명 in 리스트명:'\n",
    "for medi in medicine :\n",
    "    if medi == \"소화제\" :\n",
    "        print(medi)\n",
    "    else :\n",
    "        print(\"기타\")"
   ]
  },
  {
   "cell_type": "code",
   "execution_count": 403,
   "metadata": {
    "id": "O3DMOu2lu4IQ"
   },
   "outputs": [],
   "source": [
    "# store 변수에 지점명을 담아줍니다.\n",
    "store = [\"서울역점\", \"강남점\", \"마포점\", \"여의도점\"]\n"
   ]
  },
  {
   "cell_type": "code",
   "execution_count": 404,
   "metadata": {
    "id": "D4W2jy6du4IW",
    "scrolled": true
   },
   "outputs": [
    {
     "name": "stdout",
     "output_type": "stream",
     "text": [
      "서울역점\n",
      "강남점\n",
      "마포점\n",
      "여의도점\n"
     ]
    }
   ],
   "source": [
    "# 지점별로 print문을 통해 출력해 봅니다.\n",
    "for loc in store :\n",
    "    print(loc)"
   ]
  },
  {
   "cell_type": "code",
   "execution_count": 429,
   "metadata": {
    "id": "S2aUitIIu4Ib"
   },
   "outputs": [
    {
     "name": "stdout",
     "output_type": "stream",
     "text": [
      "0 서울역점\n",
      "<class 'int'> <class 'str'>\n",
      "1 강남점\n",
      "<class 'int'> <class 'str'>\n",
      "2 마포점\n",
      "<class 'int'> <class 'str'>\n",
      "3 여의도점\n",
      "<class 'int'> <class 'str'>\n"
     ]
    }
   ],
   "source": [
    "# enumerate를 사용하면 인덱스 번호와 원소를 같이 가져올 수 있습니다.\n",
    "for i, s in enumerate(store) :\n",
    "    print(i, s)\n",
    "    print(type(i), type(s))"
   ]
  },
  {
   "cell_type": "markdown",
   "metadata": {
    "id": "GMTNuYXjUB-y"
   },
   "source": [
    "### 응용\n",
    "*  딕셔너리의 결과가 아래와 같이 나오도록 아래의 문자열을 변경해 보세요.\n",
    "```\n",
    "{'경기': '031',\n",
    " '강원': '033',\n",
    " '충남': '041',\n",
    " '충북': '043',\n",
    " '경북': '054',\n",
    " '경남': '055',\n",
    " '전남': '061',\n",
    " '전북': '063'}\n",
    "``` "
   ]
  },
  {
   "cell_type": "code",
   "execution_count": 437,
   "metadata": {
    "id": "kTABA3xPUB-y"
   },
   "outputs": [
    {
     "data": {
      "text/plain": [
       "{'경기': '031',\n",
       " '강원': '033',\n",
       " '충남': '041',\n",
       " '충북': '043',\n",
       " '경북': '054',\n",
       " '경남': '055',\n",
       " '전남': '061',\n",
       " '전북': '063'}"
      ]
     },
     "execution_count": 437,
     "metadata": {},
     "output_type": "execute_result"
    }
   ],
   "source": [
    "# 아래의 문자를 딕셔너리 형태로 변경하기\n",
    "phone = \">경기 031 >강원 033 >충남 041 >충북 043 >경북 054 >경남 055 >전남 061 >전북 063\"\n",
    "# \">\" 문자를 기준으로 문자열을 나눕니다.\n",
    "# phone_split\n",
    "phone_split = phone.split(\">\")\n",
    "\n",
    "phone_dic = {}\n",
    "\n",
    "for i in phone_split :\n",
    "    if len(i) >= 2 :\n",
    "        region = i.split(\" \")[0]\n",
    "        num = i.split(\" \")[1]\n",
    "\n",
    "        phone_dic[region] = num\n",
    "    \n",
    "phone_dic"
   ]
  },
  {
   "cell_type": "markdown",
   "metadata": {
    "id": "RlAOGB8pUB-z"
   },
   "source": [
    "## 함수"
   ]
  },
  {
   "cell_type": "code",
   "execution_count": 431,
   "metadata": {
    "id": "gcFXxSe3UB-z"
   },
   "outputs": [],
   "source": [
    "date = \"2020.11.01\""
   ]
  },
  {
   "cell_type": "code",
   "execution_count": 438,
   "metadata": {
    "id": "_FE-2HHBUB-z"
   },
   "outputs": [],
   "source": [
    "# def parse_month(date):\n",
    "#     \"\"\"월을 반환하는 함수\"\"\"\n",
    "\n",
    "def parse_month(date):\n",
    "    date_split = date.split(\".\")\n",
    "    \n",
    "    return date_split[1] +\"월\""
   ]
  },
  {
   "cell_type": "code",
   "execution_count": 439,
   "metadata": {
    "id": "TLuxz2V7UB-z"
   },
   "outputs": [
    {
     "data": {
      "text/plain": [
       "'11월'"
      ]
     },
     "execution_count": 439,
     "metadata": {},
     "output_type": "execute_result"
    }
   ],
   "source": [
    "parse_month(date)"
   ]
  },
  {
   "cell_type": "code",
   "execution_count": 440,
   "metadata": {
    "id": "N1YQjm8OUB-z"
   },
   "outputs": [],
   "source": [
    "def parse_phone(phone_num):\n",
    "    \"\"\"전화번호의 국번을 반환하는 함수\"\"\"\n",
    "    return phone_num.split(\"-\")[0]"
   ]
  },
  {
   "cell_type": "code",
   "execution_count": 441,
   "metadata": {
    "id": "fXx-7bDYUB-0"
   },
   "outputs": [
    {
     "data": {
      "text/plain": [
       "'010'"
      ]
     },
     "execution_count": 441,
     "metadata": {},
     "output_type": "execute_result"
    }
   ],
   "source": [
    "parse_phone(\"010-9027-0734\")"
   ]
  }
 ],
 "metadata": {
  "colab": {
   "name": "0101-python-for-eda-input.ipynb",
   "provenance": []
  },
  "kernelspec": {
   "display_name": "Python 3",
   "language": "python",
   "name": "python3"
  },
  "language_info": {
   "codemirror_mode": {
    "name": "ipython",
    "version": 3
   },
   "file_extension": ".py",
   "mimetype": "text/x-python",
   "name": "python",
   "nbconvert_exporter": "python",
   "pygments_lexer": "ipython3",
   "version": "3.8.8"
  },
  "toc": {
   "base_numbering": 1,
   "nav_menu": {},
   "number_sections": true,
   "sideBar": true,
   "skip_h1_title": false,
   "title_cell": "Table of Contents",
   "title_sidebar": "Contents",
   "toc_cell": false,
   "toc_position": {},
   "toc_section_display": true,
   "toc_window_display": false
  },
  "varInspector": {
   "cols": {
    "lenName": 16,
    "lenType": 16,
    "lenVar": 40
   },
   "kernels_config": {
    "python": {
     "delete_cmd_postfix": "",
     "delete_cmd_prefix": "del ",
     "library": "var_list.py",
     "varRefreshCmd": "print(var_dic_list())"
    },
    "r": {
     "delete_cmd_postfix": ") ",
     "delete_cmd_prefix": "rm(",
     "library": "var_list.r",
     "varRefreshCmd": "cat(var_dic_list()) "
    }
   },
   "types_to_exclude": [
    "module",
    "function",
    "builtin_function_or_method",
    "instance",
    "_Feature"
   ],
   "window_display": false
  }
 },
 "nbformat": 4,
 "nbformat_minor": 1
}
