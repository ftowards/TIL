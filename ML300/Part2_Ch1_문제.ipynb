{
  "nbformat": 4,
  "nbformat_minor": 0,
  "metadata": {
    "kernelspec": {
      "display_name": "Python 3",
      "language": "python",
      "name": "python3"
    },
    "language_info": {
      "codemirror_mode": {
        "name": "ipython",
        "version": 3
      },
      "file_extension": ".py",
      "mimetype": "text/x-python",
      "name": "python",
      "nbconvert_exporter": "python",
      "pygments_lexer": "ipython3",
      "version": "3.7.7"
    },
    "colab": {
      "name": "Chapter 1 - 자동으로 모은 데이터는 분석하기 어렵다면서_ 자동으로 모은 중고 자동차 데이터를 분석해보자!(문제).ipynb",
      "provenance": [],
      "collapsed_sections": [],
      "include_colab_link": true
    }
  },
  "cells": [
    {
      "cell_type": "markdown",
      "metadata": {
        "id": "view-in-github",
        "colab_type": "text"
      },
      "source": [
        "<a href=\"https://colab.research.google.com/github/ftowards/TIL/blob/main/ML300/Part2_Ch1_%EB%AC%B8%EC%A0%9C.ipynb\" target=\"_parent\"><img src=\"https://colab.research.google.com/assets/colab-badge.svg\" alt=\"Open In Colab\"/></a>"
      ]
    },
    {
      "cell_type": "markdown",
      "metadata": {
        "id": "NqqLNJZjfi8U"
      },
      "source": [
        "# 주제 : 자동으로 모은 데이터는 분석하기 어렵다면서? 자동으로 모은 중고 자동차 데이터를 분석해보자!\n",
        "----------\n",
        "\n",
        "## 실습 가이드\n",
        "    1. 데이터를 다운로드하여 Colab에 불러옵니다.\n",
        "    2. 필요한 라이브러리는 모두 코드로 작성되어 있습니다.\n",
        "    3. 코드는 위에서부터 아래로 순서대로 실행합니다.\n",
        "    \n",
        "    \n",
        "## 데이터 소개\n",
        "    - 이번 주제는 Used Cars Dataset을 사용합니다.\n",
        "    - 파일은 한 개이며, 각각의 컬럼은 아래와 같습니다.\n",
        "    \n",
        "    - vehicles.csv\n",
        "    id : 중고차 거래의 아이디\n",
        "    url : 중고차 거래 페이지\n",
        "    region : 해당 거래의 관리 지점\n",
        "    region_url : 거래 관리 지점의 홈페이지\n",
        "    price : 기입된 자동차의 거래가\n",
        "    year : 거래가 기입된 년도\n",
        "    manufacturer : 자동차를 생산한 회사\n",
        "    model : 자동차 모델명\n",
        "    condition : 자동차의 상태\n",
        "    cylinders : 자동차의 기통 수\n",
        "    fuel : 자동차의 연료 타입\n",
        "    odometer : 자동차의 운행 마일 수\n",
        "    title_status : 자동차의 타이틀 상태 (소유주 등록 상태)\n",
        "    transmission : 자동차의 트랜스미션 종류\n",
        "    vin : 자동차의 식별 번호 (vehicle identification number)\n",
        "    drive : 자동차의 구동 타입\n",
        "    size : 자동차 크기\n",
        "    type : 자동차의 일반 타입 (세단, ...)\n",
        "    paint_color : 자동차 색상\n",
        "    image_url : 자동차 이미지\n",
        "    description : 세부 설명\n",
        "    county : 실수로 생성된 미사용 컬럼\n",
        "    state : 거래가 업로드된 미 주\n",
        "    lat : 거래가 업로드된 곳의 위도\n",
        "    long : 거래가 업로드된 곳의 경도\n",
        "    \n",
        "    \n",
        "- 데이터 출처: https://www.kaggle.com/austinreese/craigslist-carstrucks-data\n",
        "\n",
        "## 최종 목표\n",
        "    - 스크래핑된 dirty 데이터 클리닝 방법 이해\n",
        "    - 다양한 종류의 데이터 정규화 방법 습득\n",
        "    - 데이터 시각화를 통한 인사이트 습득 방법의 이해\n",
        "    - Scikit-learn 기반의 모델 학습 방법 습득\n",
        "    - XGBoost, LightGBM 기반의 모델 학습 방법 습득\n",
        "    - 학습된 모델의 평가 방법 및 시각화 방법 습득\n",
        "\n",
        "- 출제자 : 신제용 강사\n",
        "---"
      ]
    },
    {
      "cell_type": "markdown",
      "metadata": {
        "id": "ODJVmYvIP3x-"
      },
      "source": [
        "## Step 0. 데이터 스크래핑이 대하여"
      ]
    },
    {
      "cell_type": "markdown",
      "metadata": {
        "id": "c0iKTnLNsraM"
      },
      "source": [
        "### 스크래핑을 이용한 자동 데이터 습득"
      ]
    },
    {
      "cell_type": "markdown",
      "metadata": {
        "id": "cxZwPnfms0-9"
      },
      "source": [
        "### 스크래핑된 데이터에서 아웃라이어의 특징\n"
      ]
    },
    {
      "cell_type": "markdown",
      "metadata": {
        "id": "IRssoNrgP7So"
      },
      "source": [
        "## Step 1. 데이터셋 준비하기"
      ]
    },
    {
      "cell_type": "code",
      "metadata": {
        "id": "g49RuFGrBvt7"
      },
      "source": [
        "import pandas as pd\n",
        "import numpy as np\n",
        "import matplotlib.pyplot as plt\n",
        "import seaborn as sns"
      ],
      "execution_count": null,
      "outputs": []
    },
    {
      "cell_type": "markdown",
      "metadata": {
        "id": "paInbv8Ys-Qy"
      },
      "source": [
        "### 문제 1. Colab Notebook에 Kaggle API 세팅하기\n"
      ]
    },
    {
      "cell_type": "code",
      "metadata": {
        "id": "RRXGYV60B7FX"
      },
      "source": [
        "import os"
      ],
      "execution_count": null,
      "outputs": []
    },
    {
      "cell_type": "code",
      "metadata": {
        "id": "mMKFOC0OBtHO"
      },
      "source": [
        "# os.environ을 이용하여 Kaggle API Username, Key 세팅하기\n",
        "\n",
        "os.environ['KAGGLE_USERNAME'] = ''\n",
        "os.environ['KAGGLE_KEY'] = ''"
      ],
      "execution_count": null,
      "outputs": []
    },
    {
      "cell_type": "markdown",
      "metadata": {
        "id": "zvbeoB_WtBi-"
      },
      "source": [
        "### 문제 2. 데이터 다운로드 및 압축 해제하기\n"
      ]
    },
    {
      "cell_type": "code",
      "metadata": {
        "id": "JSblp2NsCGbh",
        "colab": {
          "base_uri": "https://localhost:8080/"
        },
        "outputId": "1915765e-4759-4f64-bc4e-01f391082a17"
      },
      "source": [
        "# Linux 명령어로 Kaggle API를 이용하여 데이터셋 다운로드하기 (!kaggle ~)\n",
        "# Linux 명령어로 압축 해제하기\n",
        "\n",
        "#!rm *.* \n",
        "# 데이터 삭제 코드\n",
        "!kaggle datasets download -d austinreese/craigslist-carstrucks-data\n",
        "!unzip '*.zip'\n"
      ],
      "execution_count": null,
      "outputs": [
        {
          "output_type": "stream",
          "text": [
            "Downloading craigslist-carstrucks-data.zip to /content\n",
            " 99% 259M/262M [00:02<00:00, 84.4MB/s]\n",
            "100% 262M/262M [00:02<00:00, 132MB/s] \n",
            "Archive:  craigslist-carstrucks-data.zip\n",
            "  inflating: vehicles.csv            \n"
          ],
          "name": "stdout"
        }
      ]
    },
    {
      "cell_type": "markdown",
      "metadata": {
        "id": "aJ34SovLtFI8"
      },
      "source": [
        "### 문제 3. Pandas 라이브러리로 csv파일 읽어들이기\n"
      ]
    },
    {
      "cell_type": "code",
      "metadata": {
        "id": "RnJv-4YwCMSx"
      },
      "source": [
        "df = pd.read_csv('vehicles.csv')"
      ],
      "execution_count": null,
      "outputs": []
    },
    {
      "cell_type": "markdown",
      "metadata": {
        "id": "9L3BNVM7tHN5"
      },
      "source": [
        "## Step 2. EDA 및 데이터 기초 통계 분석\n"
      ]
    },
    {
      "cell_type": "markdown",
      "metadata": {
        "id": "HyFm33tNtVn7"
      },
      "source": [
        "### 문제 4. 불필요한 데이터 데이터프레임에서 제거하기\n"
      ]
    },
    {
      "cell_type": "code",
      "metadata": {
        "id": "YcR9BX23DIFW",
        "colab": {
          "base_uri": "https://localhost:8080/",
          "height": 479
        },
        "outputId": "b9cb1467-80bb-4f3e-f706-7294c16ff526"
      },
      "source": [
        "# DataFrame에서 제공하는 메소드를 이용하여 각 데이터프레임의 구조 분석하기 (head(), info(), describe())\n",
        "# 데이터프레임에서 불필요한 컬럼 제거하기\n",
        "df.tail()"
      ],
      "execution_count": null,
      "outputs": [
        {
          "output_type": "execute_result",
          "data": {
            "text/html": [
              "<div>\n",
              "<style scoped>\n",
              "    .dataframe tbody tr th:only-of-type {\n",
              "        vertical-align: middle;\n",
              "    }\n",
              "\n",
              "    .dataframe tbody tr th {\n",
              "        vertical-align: top;\n",
              "    }\n",
              "\n",
              "    .dataframe thead th {\n",
              "        text-align: right;\n",
              "    }\n",
              "</style>\n",
              "<table border=\"1\" class=\"dataframe\">\n",
              "  <thead>\n",
              "    <tr style=\"text-align: right;\">\n",
              "      <th></th>\n",
              "      <th>id</th>\n",
              "      <th>url</th>\n",
              "      <th>region</th>\n",
              "      <th>region_url</th>\n",
              "      <th>price</th>\n",
              "      <th>year</th>\n",
              "      <th>manufacturer</th>\n",
              "      <th>model</th>\n",
              "      <th>condition</th>\n",
              "      <th>cylinders</th>\n",
              "      <th>fuel</th>\n",
              "      <th>odometer</th>\n",
              "      <th>title_status</th>\n",
              "      <th>transmission</th>\n",
              "      <th>VIN</th>\n",
              "      <th>drive</th>\n",
              "      <th>size</th>\n",
              "      <th>type</th>\n",
              "      <th>paint_color</th>\n",
              "      <th>image_url</th>\n",
              "      <th>description</th>\n",
              "      <th>county</th>\n",
              "      <th>state</th>\n",
              "      <th>lat</th>\n",
              "      <th>long</th>\n",
              "      <th>posting_date</th>\n",
              "    </tr>\n",
              "  </thead>\n",
              "  <tbody>\n",
              "    <tr>\n",
              "      <th>426875</th>\n",
              "      <td>7301591192</td>\n",
              "      <td>https://wyoming.craigslist.org/ctd/d/atlanta-2...</td>\n",
              "      <td>wyoming</td>\n",
              "      <td>https://wyoming.craigslist.org</td>\n",
              "      <td>23590</td>\n",
              "      <td>2019.0</td>\n",
              "      <td>nissan</td>\n",
              "      <td>maxima s sedan 4d</td>\n",
              "      <td>good</td>\n",
              "      <td>6 cylinders</td>\n",
              "      <td>gas</td>\n",
              "      <td>32226.0</td>\n",
              "      <td>clean</td>\n",
              "      <td>other</td>\n",
              "      <td>1N4AA6AV6KC367801</td>\n",
              "      <td>fwd</td>\n",
              "      <td>NaN</td>\n",
              "      <td>sedan</td>\n",
              "      <td>NaN</td>\n",
              "      <td>https://images.craigslist.org/00o0o_iiraFnHg8q...</td>\n",
              "      <td>Carvana is the safer way to buy a car During t...</td>\n",
              "      <td>NaN</td>\n",
              "      <td>wy</td>\n",
              "      <td>33.786500</td>\n",
              "      <td>-84.445400</td>\n",
              "      <td>2021-04-04T03:21:31-0600</td>\n",
              "    </tr>\n",
              "    <tr>\n",
              "      <th>426876</th>\n",
              "      <td>7301591187</td>\n",
              "      <td>https://wyoming.craigslist.org/ctd/d/atlanta-2...</td>\n",
              "      <td>wyoming</td>\n",
              "      <td>https://wyoming.craigslist.org</td>\n",
              "      <td>30590</td>\n",
              "      <td>2020.0</td>\n",
              "      <td>volvo</td>\n",
              "      <td>s60 t5 momentum sedan 4d</td>\n",
              "      <td>good</td>\n",
              "      <td>NaN</td>\n",
              "      <td>gas</td>\n",
              "      <td>12029.0</td>\n",
              "      <td>clean</td>\n",
              "      <td>other</td>\n",
              "      <td>7JR102FKXLG042696</td>\n",
              "      <td>fwd</td>\n",
              "      <td>NaN</td>\n",
              "      <td>sedan</td>\n",
              "      <td>red</td>\n",
              "      <td>https://images.craigslist.org/00x0x_15sbgnxCIS...</td>\n",
              "      <td>Carvana is the safer way to buy a car During t...</td>\n",
              "      <td>NaN</td>\n",
              "      <td>wy</td>\n",
              "      <td>33.786500</td>\n",
              "      <td>-84.445400</td>\n",
              "      <td>2021-04-04T03:21:29-0600</td>\n",
              "    </tr>\n",
              "    <tr>\n",
              "      <th>426877</th>\n",
              "      <td>7301591147</td>\n",
              "      <td>https://wyoming.craigslist.org/ctd/d/atlanta-2...</td>\n",
              "      <td>wyoming</td>\n",
              "      <td>https://wyoming.craigslist.org</td>\n",
              "      <td>34990</td>\n",
              "      <td>2020.0</td>\n",
              "      <td>cadillac</td>\n",
              "      <td>xt4 sport suv 4d</td>\n",
              "      <td>good</td>\n",
              "      <td>NaN</td>\n",
              "      <td>diesel</td>\n",
              "      <td>4174.0</td>\n",
              "      <td>clean</td>\n",
              "      <td>other</td>\n",
              "      <td>1GYFZFR46LF088296</td>\n",
              "      <td>NaN</td>\n",
              "      <td>NaN</td>\n",
              "      <td>hatchback</td>\n",
              "      <td>white</td>\n",
              "      <td>https://images.craigslist.org/00L0L_farM7bxnxR...</td>\n",
              "      <td>Carvana is the safer way to buy a car During t...</td>\n",
              "      <td>NaN</td>\n",
              "      <td>wy</td>\n",
              "      <td>33.779214</td>\n",
              "      <td>-84.411811</td>\n",
              "      <td>2021-04-04T03:21:17-0600</td>\n",
              "    </tr>\n",
              "    <tr>\n",
              "      <th>426878</th>\n",
              "      <td>7301591140</td>\n",
              "      <td>https://wyoming.craigslist.org/ctd/d/atlanta-2...</td>\n",
              "      <td>wyoming</td>\n",
              "      <td>https://wyoming.craigslist.org</td>\n",
              "      <td>28990</td>\n",
              "      <td>2018.0</td>\n",
              "      <td>lexus</td>\n",
              "      <td>es 350 sedan 4d</td>\n",
              "      <td>good</td>\n",
              "      <td>6 cylinders</td>\n",
              "      <td>gas</td>\n",
              "      <td>30112.0</td>\n",
              "      <td>clean</td>\n",
              "      <td>other</td>\n",
              "      <td>58ABK1GG4JU103853</td>\n",
              "      <td>fwd</td>\n",
              "      <td>NaN</td>\n",
              "      <td>sedan</td>\n",
              "      <td>silver</td>\n",
              "      <td>https://images.craigslist.org/00z0z_bKnIVGLkDT...</td>\n",
              "      <td>Carvana is the safer way to buy a car During t...</td>\n",
              "      <td>NaN</td>\n",
              "      <td>wy</td>\n",
              "      <td>33.786500</td>\n",
              "      <td>-84.445400</td>\n",
              "      <td>2021-04-04T03:21:11-0600</td>\n",
              "    </tr>\n",
              "    <tr>\n",
              "      <th>426879</th>\n",
              "      <td>7301591129</td>\n",
              "      <td>https://wyoming.craigslist.org/ctd/d/atlanta-2...</td>\n",
              "      <td>wyoming</td>\n",
              "      <td>https://wyoming.craigslist.org</td>\n",
              "      <td>30590</td>\n",
              "      <td>2019.0</td>\n",
              "      <td>bmw</td>\n",
              "      <td>4 series 430i gran coupe</td>\n",
              "      <td>good</td>\n",
              "      <td>NaN</td>\n",
              "      <td>gas</td>\n",
              "      <td>22716.0</td>\n",
              "      <td>clean</td>\n",
              "      <td>other</td>\n",
              "      <td>WBA4J1C58KBM14708</td>\n",
              "      <td>rwd</td>\n",
              "      <td>NaN</td>\n",
              "      <td>coupe</td>\n",
              "      <td>NaN</td>\n",
              "      <td>https://images.craigslist.org/00Y0Y_lEUocjyRxa...</td>\n",
              "      <td>Carvana is the safer way to buy a car During t...</td>\n",
              "      <td>NaN</td>\n",
              "      <td>wy</td>\n",
              "      <td>33.779214</td>\n",
              "      <td>-84.411811</td>\n",
              "      <td>2021-04-04T03:21:07-0600</td>\n",
              "    </tr>\n",
              "  </tbody>\n",
              "</table>\n",
              "</div>"
            ],
            "text/plain": [
              "                id  ...              posting_date\n",
              "426875  7301591192  ...  2021-04-04T03:21:31-0600\n",
              "426876  7301591187  ...  2021-04-04T03:21:29-0600\n",
              "426877  7301591147  ...  2021-04-04T03:21:17-0600\n",
              "426878  7301591140  ...  2021-04-04T03:21:11-0600\n",
              "426879  7301591129  ...  2021-04-04T03:21:07-0600\n",
              "\n",
              "[5 rows x 26 columns]"
            ]
          },
          "metadata": {
            "tags": []
          },
          "execution_count": 9
        }
      ]
    },
    {
      "cell_type": "code",
      "metadata": {
        "colab": {
          "base_uri": "https://localhost:8080/"
        },
        "id": "zQUmBmsV1LPv",
        "outputId": "e8bd4ce1-a481-4aee-9cb8-5f1974d66198"
      },
      "source": [
        "df.shape"
      ],
      "execution_count": null,
      "outputs": [
        {
          "output_type": "execute_result",
          "data": {
            "text/plain": [
              "(426880, 26)"
            ]
          },
          "metadata": {
            "tags": []
          },
          "execution_count": 8
        }
      ]
    },
    {
      "cell_type": "code",
      "metadata": {
        "colab": {
          "base_uri": "https://localhost:8080/"
        },
        "id": "Y9M3qZPi2D78",
        "outputId": "8fbc66be-dfbe-4279-a825-ab30523a8a71"
      },
      "source": [
        "df.info()"
      ],
      "execution_count": null,
      "outputs": [
        {
          "output_type": "stream",
          "text": [
            "<class 'pandas.core.frame.DataFrame'>\n",
            "RangeIndex: 426880 entries, 0 to 426879\n",
            "Data columns (total 26 columns):\n",
            " #   Column        Non-Null Count   Dtype  \n",
            "---  ------        --------------   -----  \n",
            " 0   id            426880 non-null  int64  \n",
            " 1   url           426880 non-null  object \n",
            " 2   region        426880 non-null  object \n",
            " 3   region_url    426880 non-null  object \n",
            " 4   price         426880 non-null  int64  \n",
            " 5   year          425675 non-null  float64\n",
            " 6   manufacturer  409234 non-null  object \n",
            " 7   model         421603 non-null  object \n",
            " 8   condition     252776 non-null  object \n",
            " 9   cylinders     249202 non-null  object \n",
            " 10  fuel          423867 non-null  object \n",
            " 11  odometer      422480 non-null  float64\n",
            " 12  title_status  418638 non-null  object \n",
            " 13  transmission  424324 non-null  object \n",
            " 14  VIN           265838 non-null  object \n",
            " 15  drive         296313 non-null  object \n",
            " 16  size          120519 non-null  object \n",
            " 17  type          334022 non-null  object \n",
            " 18  paint_color   296677 non-null  object \n",
            " 19  image_url     426812 non-null  object \n",
            " 20  description   426810 non-null  object \n",
            " 21  county        0 non-null       float64\n",
            " 22  state         426880 non-null  object \n",
            " 23  lat           420331 non-null  float64\n",
            " 24  long          420331 non-null  float64\n",
            " 25  posting_date  426812 non-null  object \n",
            "dtypes: float64(5), int64(2), object(19)\n",
            "memory usage: 84.7+ MB\n"
          ],
          "name": "stdout"
        }
      ]
    },
    {
      "cell_type": "code",
      "metadata": {
        "colab": {
          "base_uri": "https://localhost:8080/"
        },
        "id": "YLbAnY001LOg",
        "outputId": "1336e630-50e9-4cef-a2cc-51bc167d876b"
      },
      "source": [
        "df.isna().sum()"
      ],
      "execution_count": null,
      "outputs": [
        {
          "output_type": "execute_result",
          "data": {
            "text/plain": [
              "id                   0\n",
              "url                  0\n",
              "region               0\n",
              "region_url           0\n",
              "price                0\n",
              "year              1205\n",
              "manufacturer     17646\n",
              "model             5277\n",
              "condition       174104\n",
              "cylinders       177678\n",
              "fuel              3013\n",
              "odometer          4400\n",
              "title_status      8242\n",
              "transmission      2556\n",
              "VIN             161042\n",
              "drive           130567\n",
              "size            306361\n",
              "type             92858\n",
              "paint_color     130203\n",
              "image_url           68\n",
              "description         70\n",
              "county          426880\n",
              "state                0\n",
              "lat               6549\n",
              "long              6549\n",
              "posting_date        68\n",
              "dtype: int64"
            ]
          },
          "metadata": {
            "tags": []
          },
          "execution_count": 11
        }
      ]
    },
    {
      "cell_type": "code",
      "metadata": {
        "colab": {
          "base_uri": "https://localhost:8080/",
          "height": 297
        },
        "id": "uHZ_IYub2lHh",
        "outputId": "3343d668-fec7-4dba-c4c6-9ad34efb28e4"
      },
      "source": [
        "df.describe()"
      ],
      "execution_count": null,
      "outputs": [
        {
          "output_type": "execute_result",
          "data": {
            "text/html": [
              "<div>\n",
              "<style scoped>\n",
              "    .dataframe tbody tr th:only-of-type {\n",
              "        vertical-align: middle;\n",
              "    }\n",
              "\n",
              "    .dataframe tbody tr th {\n",
              "        vertical-align: top;\n",
              "    }\n",
              "\n",
              "    .dataframe thead th {\n",
              "        text-align: right;\n",
              "    }\n",
              "</style>\n",
              "<table border=\"1\" class=\"dataframe\">\n",
              "  <thead>\n",
              "    <tr style=\"text-align: right;\">\n",
              "      <th></th>\n",
              "      <th>id</th>\n",
              "      <th>price</th>\n",
              "      <th>year</th>\n",
              "      <th>odometer</th>\n",
              "      <th>county</th>\n",
              "      <th>lat</th>\n",
              "      <th>long</th>\n",
              "    </tr>\n",
              "  </thead>\n",
              "  <tbody>\n",
              "    <tr>\n",
              "      <th>count</th>\n",
              "      <td>4.268800e+05</td>\n",
              "      <td>4.268800e+05</td>\n",
              "      <td>425675.000000</td>\n",
              "      <td>4.224800e+05</td>\n",
              "      <td>0.0</td>\n",
              "      <td>420331.000000</td>\n",
              "      <td>420331.000000</td>\n",
              "    </tr>\n",
              "    <tr>\n",
              "      <th>mean</th>\n",
              "      <td>7.311487e+09</td>\n",
              "      <td>7.519903e+04</td>\n",
              "      <td>2011.235191</td>\n",
              "      <td>9.804333e+04</td>\n",
              "      <td>NaN</td>\n",
              "      <td>38.493940</td>\n",
              "      <td>-94.748599</td>\n",
              "    </tr>\n",
              "    <tr>\n",
              "      <th>std</th>\n",
              "      <td>4.473170e+06</td>\n",
              "      <td>1.218228e+07</td>\n",
              "      <td>9.452120</td>\n",
              "      <td>2.138815e+05</td>\n",
              "      <td>NaN</td>\n",
              "      <td>5.841533</td>\n",
              "      <td>18.365462</td>\n",
              "    </tr>\n",
              "    <tr>\n",
              "      <th>min</th>\n",
              "      <td>7.207408e+09</td>\n",
              "      <td>0.000000e+00</td>\n",
              "      <td>1900.000000</td>\n",
              "      <td>0.000000e+00</td>\n",
              "      <td>NaN</td>\n",
              "      <td>-84.122245</td>\n",
              "      <td>-159.827728</td>\n",
              "    </tr>\n",
              "    <tr>\n",
              "      <th>25%</th>\n",
              "      <td>7.308143e+09</td>\n",
              "      <td>5.900000e+03</td>\n",
              "      <td>2008.000000</td>\n",
              "      <td>3.770400e+04</td>\n",
              "      <td>NaN</td>\n",
              "      <td>34.601900</td>\n",
              "      <td>-111.939847</td>\n",
              "    </tr>\n",
              "    <tr>\n",
              "      <th>50%</th>\n",
              "      <td>7.312621e+09</td>\n",
              "      <td>1.395000e+04</td>\n",
              "      <td>2013.000000</td>\n",
              "      <td>8.554800e+04</td>\n",
              "      <td>NaN</td>\n",
              "      <td>39.150100</td>\n",
              "      <td>-88.432600</td>\n",
              "    </tr>\n",
              "    <tr>\n",
              "      <th>75%</th>\n",
              "      <td>7.315254e+09</td>\n",
              "      <td>2.648575e+04</td>\n",
              "      <td>2017.000000</td>\n",
              "      <td>1.335425e+05</td>\n",
              "      <td>NaN</td>\n",
              "      <td>42.398900</td>\n",
              "      <td>-80.832039</td>\n",
              "    </tr>\n",
              "    <tr>\n",
              "      <th>max</th>\n",
              "      <td>7.317101e+09</td>\n",
              "      <td>3.736929e+09</td>\n",
              "      <td>2022.000000</td>\n",
              "      <td>1.000000e+07</td>\n",
              "      <td>NaN</td>\n",
              "      <td>82.390818</td>\n",
              "      <td>173.885502</td>\n",
              "    </tr>\n",
              "  </tbody>\n",
              "</table>\n",
              "</div>"
            ],
            "text/plain": [
              "                 id         price  ...            lat           long\n",
              "count  4.268800e+05  4.268800e+05  ...  420331.000000  420331.000000\n",
              "mean   7.311487e+09  7.519903e+04  ...      38.493940     -94.748599\n",
              "std    4.473170e+06  1.218228e+07  ...       5.841533      18.365462\n",
              "min    7.207408e+09  0.000000e+00  ...     -84.122245    -159.827728\n",
              "25%    7.308143e+09  5.900000e+03  ...      34.601900    -111.939847\n",
              "50%    7.312621e+09  1.395000e+04  ...      39.150100     -88.432600\n",
              "75%    7.315254e+09  2.648575e+04  ...      42.398900     -80.832039\n",
              "max    7.317101e+09  3.736929e+09  ...      82.390818     173.885502\n",
              "\n",
              "[8 rows x 7 columns]"
            ]
          },
          "metadata": {
            "tags": []
          },
          "execution_count": 12
        }
      ]
    },
    {
      "cell_type": "code",
      "metadata": {
        "colab": {
          "base_uri": "https://localhost:8080/"
        },
        "id": "YzNQaowc1D2Y",
        "outputId": "05d66d11-2a02-4a04-e094-df49b17904da"
      },
      "source": [
        "bdf['condition'].isnull().sum()"
      ],
      "execution_count": null,
      "outputs": [
        {
          "output_type": "execute_result",
          "data": {
            "text/plain": [
              "174104"
            ]
          },
          "metadata": {
            "tags": []
          },
          "execution_count": 7
        }
      ]
    },
    {
      "cell_type": "code",
      "metadata": {
        "colab": {
          "base_uri": "https://localhost:8080/"
        },
        "id": "Dpx-nKeH5ymp",
        "outputId": "49375346-463b-4537-9827-ffd9eb5dcdae"
      },
      "source": [
        "df.columns"
      ],
      "execution_count": null,
      "outputs": [
        {
          "output_type": "execute_result",
          "data": {
            "text/plain": [
              "Index(['id', 'url', 'region', 'region_url', 'price', 'year', 'manufacturer',\n",
              "       'model', 'condition', 'cylinders', 'fuel', 'odometer', 'title_status',\n",
              "       'transmission', 'VIN', 'drive', 'size', 'type', 'paint_color',\n",
              "       'image_url', 'description', 'county', 'state', 'lat', 'long',\n",
              "       'posting_date'],\n",
              "      dtype='object')"
            ]
          },
          "metadata": {
            "tags": []
          },
          "execution_count": 13
        }
      ]
    },
    {
      "cell_type": "code",
      "metadata": {
        "id": "UNiIYnfd5wQC"
      },
      "source": [
        "df = df.drop(['id', 'url', 'region_url', 'VIN',\n",
        "       'image_url', 'description', 'state', 'lat', 'long',\n",
        "       'posting_date'], axis = 1)"
      ],
      "execution_count": null,
      "outputs": []
    },
    {
      "cell_type": "code",
      "metadata": {
        "id": "9VW7uEtR6S40"
      },
      "source": [
        "df['age'] = 2021 - df['year']\n",
        "df = df.drop(['year'], axis = 1)"
      ],
      "execution_count": null,
      "outputs": []
    },
    {
      "cell_type": "code",
      "metadata": {
        "colab": {
          "base_uri": "https://localhost:8080/",
          "height": 258
        },
        "id": "St7crHnU6d6T",
        "outputId": "bdc47add-863b-42b6-f606-dce5f279e999"
      },
      "source": [
        "df.head()"
      ],
      "execution_count": null,
      "outputs": [
        {
          "output_type": "execute_result",
          "data": {
            "text/html": [
              "<div>\n",
              "<style scoped>\n",
              "    .dataframe tbody tr th:only-of-type {\n",
              "        vertical-align: middle;\n",
              "    }\n",
              "\n",
              "    .dataframe tbody tr th {\n",
              "        vertical-align: top;\n",
              "    }\n",
              "\n",
              "    .dataframe thead th {\n",
              "        text-align: right;\n",
              "    }\n",
              "</style>\n",
              "<table border=\"1\" class=\"dataframe\">\n",
              "  <thead>\n",
              "    <tr style=\"text-align: right;\">\n",
              "      <th></th>\n",
              "      <th>region</th>\n",
              "      <th>price</th>\n",
              "      <th>manufacturer</th>\n",
              "      <th>model</th>\n",
              "      <th>condition</th>\n",
              "      <th>cylinders</th>\n",
              "      <th>fuel</th>\n",
              "      <th>odometer</th>\n",
              "      <th>title_status</th>\n",
              "      <th>transmission</th>\n",
              "      <th>drive</th>\n",
              "      <th>size</th>\n",
              "      <th>type</th>\n",
              "      <th>paint_color</th>\n",
              "      <th>county</th>\n",
              "      <th>age</th>\n",
              "    </tr>\n",
              "  </thead>\n",
              "  <tbody>\n",
              "    <tr>\n",
              "      <th>0</th>\n",
              "      <td>prescott</td>\n",
              "      <td>6000</td>\n",
              "      <td>NaN</td>\n",
              "      <td>NaN</td>\n",
              "      <td>NaN</td>\n",
              "      <td>NaN</td>\n",
              "      <td>NaN</td>\n",
              "      <td>NaN</td>\n",
              "      <td>NaN</td>\n",
              "      <td>NaN</td>\n",
              "      <td>NaN</td>\n",
              "      <td>NaN</td>\n",
              "      <td>NaN</td>\n",
              "      <td>NaN</td>\n",
              "      <td>NaN</td>\n",
              "      <td>NaN</td>\n",
              "    </tr>\n",
              "    <tr>\n",
              "      <th>1</th>\n",
              "      <td>fayetteville</td>\n",
              "      <td>11900</td>\n",
              "      <td>NaN</td>\n",
              "      <td>NaN</td>\n",
              "      <td>NaN</td>\n",
              "      <td>NaN</td>\n",
              "      <td>NaN</td>\n",
              "      <td>NaN</td>\n",
              "      <td>NaN</td>\n",
              "      <td>NaN</td>\n",
              "      <td>NaN</td>\n",
              "      <td>NaN</td>\n",
              "      <td>NaN</td>\n",
              "      <td>NaN</td>\n",
              "      <td>NaN</td>\n",
              "      <td>NaN</td>\n",
              "    </tr>\n",
              "    <tr>\n",
              "      <th>2</th>\n",
              "      <td>florida keys</td>\n",
              "      <td>21000</td>\n",
              "      <td>NaN</td>\n",
              "      <td>NaN</td>\n",
              "      <td>NaN</td>\n",
              "      <td>NaN</td>\n",
              "      <td>NaN</td>\n",
              "      <td>NaN</td>\n",
              "      <td>NaN</td>\n",
              "      <td>NaN</td>\n",
              "      <td>NaN</td>\n",
              "      <td>NaN</td>\n",
              "      <td>NaN</td>\n",
              "      <td>NaN</td>\n",
              "      <td>NaN</td>\n",
              "      <td>NaN</td>\n",
              "    </tr>\n",
              "    <tr>\n",
              "      <th>3</th>\n",
              "      <td>worcester / central MA</td>\n",
              "      <td>1500</td>\n",
              "      <td>NaN</td>\n",
              "      <td>NaN</td>\n",
              "      <td>NaN</td>\n",
              "      <td>NaN</td>\n",
              "      <td>NaN</td>\n",
              "      <td>NaN</td>\n",
              "      <td>NaN</td>\n",
              "      <td>NaN</td>\n",
              "      <td>NaN</td>\n",
              "      <td>NaN</td>\n",
              "      <td>NaN</td>\n",
              "      <td>NaN</td>\n",
              "      <td>NaN</td>\n",
              "      <td>NaN</td>\n",
              "    </tr>\n",
              "    <tr>\n",
              "      <th>4</th>\n",
              "      <td>greensboro</td>\n",
              "      <td>4900</td>\n",
              "      <td>NaN</td>\n",
              "      <td>NaN</td>\n",
              "      <td>NaN</td>\n",
              "      <td>NaN</td>\n",
              "      <td>NaN</td>\n",
              "      <td>NaN</td>\n",
              "      <td>NaN</td>\n",
              "      <td>NaN</td>\n",
              "      <td>NaN</td>\n",
              "      <td>NaN</td>\n",
              "      <td>NaN</td>\n",
              "      <td>NaN</td>\n",
              "      <td>NaN</td>\n",
              "      <td>NaN</td>\n",
              "    </tr>\n",
              "  </tbody>\n",
              "</table>\n",
              "</div>"
            ],
            "text/plain": [
              "                   region  price manufacturer  ... paint_color county age\n",
              "0                prescott   6000          NaN  ...         NaN    NaN NaN\n",
              "1            fayetteville  11900          NaN  ...         NaN    NaN NaN\n",
              "2            florida keys  21000          NaN  ...         NaN    NaN NaN\n",
              "3  worcester / central MA   1500          NaN  ...         NaN    NaN NaN\n",
              "4              greensboro   4900          NaN  ...         NaN    NaN NaN\n",
              "\n",
              "[5 rows x 16 columns]"
            ]
          },
          "metadata": {
            "tags": []
          },
          "execution_count": 17
        }
      ]
    },
    {
      "cell_type": "markdown",
      "metadata": {
        "id": "HGHvPwkNtXgj"
      },
      "source": [
        "### 문제 5. 범주형 데이터의 통계 분석하기\n"
      ]
    },
    {
      "cell_type": "code",
      "metadata": {
        "colab": {
          "base_uri": "https://localhost:8080/"
        },
        "id": "CcyG68Zs5tlB",
        "outputId": "223affec-f35b-41a9-b6d2-8af1a01b7acb"
      },
      "source": [
        "df.columns"
      ],
      "execution_count": null,
      "outputs": [
        {
          "output_type": "execute_result",
          "data": {
            "text/plain": [
              "Index(['region', 'price', 'manufacturer', 'model', 'condition', 'cylinders',\n",
              "       'fuel', 'odometer', 'title_status', 'transmission', 'drive', 'size',\n",
              "       'type', 'paint_color', 'county', 'age'],\n",
              "      dtype='object')"
            ]
          },
          "metadata": {
            "tags": []
          },
          "execution_count": 18
        }
      ]
    },
    {
      "cell_type": "code",
      "metadata": {
        "id": "b_zcrUDF7khF",
        "colab": {
          "base_uri": "https://localhost:8080/"
        },
        "outputId": "c5230269-c67d-475b-fe1a-ffa93ed7b8eb"
      },
      "source": [
        "# 범주형 데이터의 값의 범위, 기초 통계 분석하기\n",
        "\n",
        "df['manufacturer'].value_counts()"
      ],
      "execution_count": null,
      "outputs": [
        {
          "output_type": "execute_result",
          "data": {
            "text/plain": [
              "ford               70985\n",
              "chevrolet          55064\n",
              "toyota             34202\n",
              "honda              21269\n",
              "nissan             19067\n",
              "jeep               19014\n",
              "ram                18342\n",
              "gmc                16785\n",
              "bmw                14699\n",
              "dodge              13707\n",
              "mercedes-benz      11817\n",
              "hyundai            10338\n",
              "subaru              9495\n",
              "volkswagen          9345\n",
              "kia                 8457\n",
              "lexus               8200\n",
              "audi                7573\n",
              "cadillac            6953\n",
              "chrysler            6031\n",
              "acura               5978\n",
              "buick               5501\n",
              "mazda               5427\n",
              "infiniti            4802\n",
              "lincoln             4220\n",
              "volvo               3374\n",
              "mitsubishi          3292\n",
              "mini                2376\n",
              "pontiac             2288\n",
              "rover               2113\n",
              "jaguar              1946\n",
              "porsche             1384\n",
              "mercury             1184\n",
              "saturn              1090\n",
              "alfa-romeo           897\n",
              "tesla                868\n",
              "fiat                 792\n",
              "harley-davidson      153\n",
              "ferrari               95\n",
              "datsun                63\n",
              "aston-martin          24\n",
              "land rover            21\n",
              "morgan                 3\n",
              "Name: manufacturer, dtype: int64"
            ]
          },
          "metadata": {
            "tags": []
          },
          "execution_count": 19
        }
      ]
    },
    {
      "cell_type": "code",
      "metadata": {
        "colab": {
          "base_uri": "https://localhost:8080/",
          "height": 624
        },
        "id": "ao-Vj3Jh7HHC",
        "outputId": "f13c91a2-4c8e-43f5-dd70-e66b54b1aa4c"
      },
      "source": [
        "plt.figure(figsize=(6,10))\n",
        "sns.countplot(y='manufacturer', data = df.fillna('n/a'), order=df.fillna('n/a')['manufacturer'].value_counts().index)"
      ],
      "execution_count": null,
      "outputs": [
        {
          "output_type": "execute_result",
          "data": {
            "text/plain": [
              "<matplotlib.axes._subplots.AxesSubplot at 0x7f6381f76950>"
            ]
          },
          "metadata": {
            "tags": []
          },
          "execution_count": 23
        },
        {
          "output_type": "display_data",
          "data": {
            "image/png": "[encoded data removed]",
            "text/plain": [
              "<Figure size 432x720 with 1 Axes>"
            ]
          },
          "metadata": {
            "tags": [],
            "needs_background": "light"
          }
        }
      ]
    },
    {
      "cell_type": "code",
      "metadata": {
        "id": "JTI9C_P57rU9"
      },
      "source": [
        "for model, num in zip(df['model'].value_counts().index, df['model'].value_counts()) :\n",
        "    print(model, num)"
      ],
      "execution_count": null,
      "outputs": []
    },
    {
      "cell_type": "code",
      "metadata": {
        "id": "_JilX-Qz7oZt"
      },
      "source": [
        "plt.figure(figsize=(8,10))\n",
        "sns.countplot(y='model', data = df.fillna('n/a'), order=df.fillna('n/a')['model'].value_counts().index)"
      ],
      "execution_count": null,
      "outputs": []
    },
    {
      "cell_type": "code",
      "metadata": {
        "colab": {
          "base_uri": "https://localhost:8080/",
          "height": 297
        },
        "id": "-_myedSP8Y7l",
        "outputId": "c293f4b2-d631-458b-b1c3-4a7f26d1279c"
      },
      "source": [
        "sns.countplot(y='condition', data = df.fillna('n/a'), order=df.fillna('n/a')['condition'].value_counts().index)"
      ],
      "execution_count": null,
      "outputs": [
        {
          "output_type": "execute_result",
          "data": {
            "text/plain": [
              "<matplotlib.axes._subplots.AxesSubplot at 0x7f637fd3b450>"
            ]
          },
          "metadata": {
            "tags": []
          },
          "execution_count": 29
        },
        {
          "output_type": "display_data",
          "data": {
            "image/png": "[encoded data removed]",
            "text/plain": [
              "<Figure size 432x288 with 1 Axes>"
            ]
          },
          "metadata": {
            "tags": [],
            "needs_background": "light"
          }
        }
      ]
    },
    {
      "cell_type": "code",
      "metadata": {
        "colab": {
          "base_uri": "https://localhost:8080/",
          "height": 297
        },
        "id": "D4kFIPO48_Tg",
        "outputId": "53f28e0c-3abf-4a72-bcb9-89b5bf267310"
      },
      "source": [
        "sns.countplot(y='cylinders', data = df.fillna('n/a'), order=df.fillna('n/a')['cylinders'].value_counts().index)"
      ],
      "execution_count": null,
      "outputs": [
        {
          "output_type": "execute_result",
          "data": {
            "text/plain": [
              "<matplotlib.axes._subplots.AxesSubplot at 0x7f637fc4be50>"
            ]
          },
          "metadata": {
            "tags": []
          },
          "execution_count": 30
        },
        {
          "output_type": "display_data",
          "data": {
            "image/png": "[encoded data removed]",
            "text/plain": [
              "<Figure size 432x288 with 1 Axes>"
            ]
          },
          "metadata": {
            "tags": [],
            "needs_background": "light"
          }
        }
      ]
    },
    {
      "cell_type": "code",
      "metadata": {
        "colab": {
          "base_uri": "https://localhost:8080/",
          "height": 297
        },
        "id": "nhFJ2-QL9MA2",
        "outputId": "78d37efc-c4eb-48be-eebf-902ff4b21e40"
      },
      "source": [
        "sns.countplot(y='fuel', data = df.fillna('n/a'), order=df.fillna('n/a')['fuel'].value_counts().index)"
      ],
      "execution_count": null,
      "outputs": [
        {
          "output_type": "execute_result",
          "data": {
            "text/plain": [
              "<matplotlib.axes._subplots.AxesSubplot at 0x7f637f12f7d0>"
            ]
          },
          "metadata": {
            "tags": []
          },
          "execution_count": 31
        },
        {
          "output_type": "display_data",
          "data": {
            "image/png": "[encoded data removed]",
            "text/plain": [
              "<Figure size 432x288 with 1 Axes>"
            ]
          },
          "metadata": {
            "tags": [],
            "needs_background": "light"
          }
        }
      ]
    },
    {
      "cell_type": "code",
      "metadata": {
        "colab": {
          "base_uri": "https://localhost:8080/",
          "height": 297
        },
        "id": "1q9emR_R9Waw",
        "outputId": "c86d8179-c4c5-4fe1-bcc3-7de9b85d4438"
      },
      "source": [
        "sns.countplot(y='transmission', data = df.fillna('n/a'), order=df.fillna('n/a')['transmission'].value_counts().index)"
      ],
      "execution_count": null,
      "outputs": [
        {
          "output_type": "execute_result",
          "data": {
            "text/plain": [
              "<matplotlib.axes._subplots.AxesSubplot at 0x7f637ede4ad0>"
            ]
          },
          "metadata": {
            "tags": []
          },
          "execution_count": 32
        },
        {
          "output_type": "display_data",
          "data": {
            "image/png": "[encoded data removed]",
            "text/plain": [
              "<Figure size 432x288 with 1 Axes>"
            ]
          },
          "metadata": {
            "tags": [],
            "needs_background": "light"
          }
        }
      ]
    },
    {
      "cell_type": "code",
      "metadata": {
        "colab": {
          "base_uri": "https://localhost:8080/",
          "height": 297
        },
        "id": "pd1IA_1F9bEW",
        "outputId": "7e83ab6c-6b3b-4683-a1ca-356fea71de32"
      },
      "source": [
        "sns.countplot(y='drive', data = df.fillna('n/a'), order=df.fillna('n/a')['drive'].value_counts().index)"
      ],
      "execution_count": null,
      "outputs": [
        {
          "output_type": "execute_result",
          "data": {
            "text/plain": [
              "<matplotlib.axes._subplots.AxesSubplot at 0x7f636fe1bcd0>"
            ]
          },
          "metadata": {
            "tags": []
          },
          "execution_count": 33
        },
        {
          "output_type": "display_data",
          "data": {
            "image/png": "[encoded data removed]",
            "text/plain": [
              "<Figure size 432x288 with 1 Axes>"
            ]
          },
          "metadata": {
            "tags": [],
            "needs_background": "light"
          }
        }
      ]
    },
    {
      "cell_type": "code",
      "metadata": {
        "colab": {
          "base_uri": "https://localhost:8080/",
          "height": 297
        },
        "id": "6FI9PEl_9df-",
        "outputId": "fd9c58b3-53f2-4757-bfd0-5e33551d96d0"
      },
      "source": [
        "sns.countplot(y='size', data = df.fillna('n/a'), order=df.fillna('n/a')['size'].value_counts().index)"
      ],
      "execution_count": null,
      "outputs": [
        {
          "output_type": "execute_result",
          "data": {
            "text/plain": [
              "<matplotlib.axes._subplots.AxesSubplot at 0x7f637f10b710>"
            ]
          },
          "metadata": {
            "tags": []
          },
          "execution_count": 34
        },
        {
          "output_type": "display_data",
          "data": {
            "image/png": "[encoded data removed]",
            "text/plain": [
              "<Figure size 432x288 with 1 Axes>"
            ]
          },
          "metadata": {
            "tags": [],
            "needs_background": "light"
          }
        }
      ]
    },
    {
      "cell_type": "code",
      "metadata": {
        "colab": {
          "base_uri": "https://localhost:8080/",
          "height": 297
        },
        "id": "OewVyyxM9hB0",
        "outputId": "28dd2d96-a41e-48d2-f57f-d9fb87208208"
      },
      "source": [
        "sns.countplot(y='type', data = df.fillna('n/a'), order=df.fillna('n/a')['type'].value_counts().index)"
      ],
      "execution_count": null,
      "outputs": [
        {
          "output_type": "execute_result",
          "data": {
            "text/plain": [
              "<matplotlib.axes._subplots.AxesSubplot at 0x7f63805da3d0>"
            ]
          },
          "metadata": {
            "tags": []
          },
          "execution_count": 35
        },
        {
          "output_type": "display_data",
          "data": {
            "image/png": "[encoded data removed]",
            "text/plain": [
              "<Figure size 432x288 with 1 Axes>"
            ]
          },
          "metadata": {
            "tags": [],
            "needs_background": "light"
          }
        }
      ]
    },
    {
      "cell_type": "code",
      "metadata": {
        "colab": {
          "base_uri": "https://localhost:8080/",
          "height": 297
        },
        "id": "FXJHv5ge9jcp",
        "outputId": "23e3f95b-a136-45d4-cd74-611a4f7577e6"
      },
      "source": [
        "sns.countplot(y='paint_color', data = df.fillna('n/a'), order=df.fillna('n/a')['paint_color'].value_counts().index)"
      ],
      "execution_count": null,
      "outputs": [
        {
          "output_type": "execute_result",
          "data": {
            "text/plain": [
              "<matplotlib.axes._subplots.AxesSubplot at 0x7f637f0f6150>"
            ]
          },
          "metadata": {
            "tags": []
          },
          "execution_count": 36
        },
        {
          "output_type": "display_data",
          "data": {
            "image/png": "[encoded data removed]",
            "text/plain": [
              "<Figure size 432x288 with 1 Axes>"
            ]
          },
          "metadata": {
            "tags": [],
            "needs_background": "light"
          }
        }
      ]
    },
    {
      "cell_type": "markdown",
      "metadata": {
        "id": "amkU5Y6g7Dp4"
      },
      "source": [
        "### 문제 6. 수치형 데이터의 통계 분석하기"
      ]
    },
    {
      "cell_type": "code",
      "metadata": {
        "id": "GZXSBFPyDh6R",
        "colab": {
          "base_uri": "https://localhost:8080/"
        },
        "outputId": "58d98b7b-dfef-4574-9e63-1597699bd2b3"
      },
      "source": [
        "# 수치형 데이터의 값의 범위, 기초 통계 분석하기\n",
        "df.columns\n"
      ],
      "execution_count": null,
      "outputs": [
        {
          "output_type": "execute_result",
          "data": {
            "text/plain": [
              "Index(['region', 'price', 'manufacturer', 'model', 'condition', 'cylinders',\n",
              "       'fuel', 'odometer', 'title_status', 'transmission', 'drive', 'size',\n",
              "       'type', 'paint_color', 'county', 'age'],\n",
              "      dtype='object')"
            ]
          },
          "metadata": {
            "tags": []
          },
          "execution_count": 37
        }
      ]
    },
    {
      "cell_type": "code",
      "metadata": {
        "colab": {
          "base_uri": "https://localhost:8080/",
          "height": 189
        },
        "id": "6tt_AIwr912O",
        "outputId": "f86f1b6e-c50e-4c2c-9bca-4153647cfbdb"
      },
      "source": [
        "plt.figure(figsize=(8,2))\n",
        "sns.rugplot(x='price', data = df, height = 1)"
      ],
      "execution_count": null,
      "outputs": [
        {
          "output_type": "execute_result",
          "data": {
            "text/plain": [
              "<matplotlib.axes._subplots.AxesSubplot at 0x7f6316736ed0>"
            ]
          },
          "metadata": {
            "tags": []
          },
          "execution_count": 42
        },
        {
          "output_type": "display_data",
          "data": {
            "image/png": "[encoded data removed]",
            "text/plain": [
              "<Figure size 576x144 with 1 Axes>"
            ]
          },
          "metadata": {
            "tags": [],
            "needs_background": "light"
          }
        }
      ]
    },
    {
      "cell_type": "code",
      "metadata": {
        "colab": {
          "base_uri": "https://localhost:8080/",
          "height": 297
        },
        "id": "gcGOjLVe92ZV",
        "outputId": "8f7424bb-f7e4-4a08-f504-759089de31f6"
      },
      "source": [
        "sns.rugplot(x='odometer', data = df, height = 0.1)"
      ],
      "execution_count": null,
      "outputs": [
        {
          "output_type": "execute_result",
          "data": {
            "text/plain": [
              "<matplotlib.axes._subplots.AxesSubplot at 0x7f6324543a50>"
            ]
          },
          "metadata": {
            "tags": []
          },
          "execution_count": 41
        },
        {
          "output_type": "display_data",
          "data": {
            "image/png": "[encoded data removed]",
            "text/plain": [
              "<Figure size 432x288 with 1 Axes>"
            ]
          },
          "metadata": {
            "tags": [],
            "needs_background": "light"
          }
        }
      ]
    },
    {
      "cell_type": "code",
      "metadata": {
        "colab": {
          "base_uri": "https://localhost:8080/",
          "height": 301
        },
        "id": "_ihPFKs892yS",
        "outputId": "c8495748-72ab-4eb2-8256-3c73b51d56d1"
      },
      "source": [
        "sns.histplot(x='age', data = df, bins = 18, kde=True)"
      ],
      "execution_count": null,
      "outputs": [
        {
          "output_type": "execute_result",
          "data": {
            "text/plain": [
              "<matplotlib.axes._subplots.AxesSubplot at 0x7f63803d1d10>"
            ]
          },
          "metadata": {
            "tags": []
          },
          "execution_count": 45
        },
        {
          "output_type": "display_data",
          "data": {
            "image/png": "[encoded data removed]",
            "text/plain": [
              "<Figure size 432x288 with 1 Axes>"
            ]
          },
          "metadata": {
            "tags": [],
            "needs_background": "light"
          }
        }
      ]
    },
    {
      "cell_type": "markdown",
      "metadata": {
        "id": "izztXKpllMss"
      },
      "source": [
        "## Step 3. 데이터 클리닝 수행하기"
      ]
    },
    {
      "cell_type": "markdown",
      "metadata": {
        "id": "KywGh9sjtYl9"
      },
      "source": [
        "### 문제 7. 범주형 데이터 시각화하여 분석하기"
      ]
    },
    {
      "cell_type": "code",
      "metadata": {
        "id": "TqXkwW8JDxhH",
        "colab": {
          "base_uri": "https://localhost:8080/"
        },
        "outputId": "d4b2f5e2-0e95-49df-ec6f-674b3f164154"
      },
      "source": [
        "# Boxplot 계열로 범주형 데이터를 시각화하여 분석하기\n",
        "df.columns"
      ],
      "execution_count": null,
      "outputs": [
        {
          "output_type": "execute_result",
          "data": {
            "text/plain": [
              "Index(['region', 'price', 'manufacturer', 'model', 'condition', 'cylinders',\n",
              "       'fuel', 'odometer', 'title_status', 'transmission', 'drive', 'size',\n",
              "       'type', 'paint_color', 'county', 'age'],\n",
              "      dtype='object')"
            ]
          },
          "metadata": {
            "tags": []
          },
          "execution_count": 46
        }
      ]
    },
    {
      "cell_type": "code",
      "metadata": {
        "colab": {
          "base_uri": "https://localhost:8080/",
          "height": 308
        },
        "id": "XQSeTBF4_L9f",
        "outputId": "86759145-1416-4557-ca04-1fad8472ba05"
      },
      "source": [
        "sns.boxplot(x='manufacturer', y='price', data = df.fillna('n/a'))"
      ],
      "execution_count": null,
      "outputs": [
        {
          "output_type": "execute_result",
          "data": {
            "text/plain": [
              "<matplotlib.axes._subplots.AxesSubplot at 0x7f6308744dd0>"
            ]
          },
          "metadata": {
            "tags": []
          },
          "execution_count": 47
        },
        {
          "output_type": "display_data",
          "data": {
            "image/png": "[encoded data removed]",
            "text/plain": [
              "<Figure size 432x288 with 1 Axes>"
            ]
          },
          "metadata": {
            "tags": [],
            "needs_background": "light"
          }
        }
      ]
    },
    {
      "cell_type": "markdown",
      "metadata": {
        "id": "CXLd43EZ9EgS"
      },
      "source": [
        "### 문제 8. 범주형 데이터 클리닝하기"
      ]
    },
    {
      "cell_type": "code",
      "metadata": {
        "id": "8HbUtvqs9C-C"
      },
      "source": [
        "# 범주형 데이터를 아래 방법 중 적절히 판단하여 처리하기\n",
        "# 1. 결손 데이터가 포함된 Row를 제거\n",
        "# 2. 결손 데이터를 others 범주로 변경하기\n",
        "# 3. 지나치게 소수로 이루어진 범주를 others 범주로 변경하기\n"
      ],
      "execution_count": null,
      "outputs": []
    },
    {
      "cell_type": "code",
      "metadata": {
        "colab": {
          "base_uri": "https://localhost:8080/"
        },
        "id": "OxBH_wFJ_wlm",
        "outputId": "f40e784f-6a87-4c9a-8db5-7e8f9a84fbca"
      },
      "source": [
        "df.columns"
      ],
      "execution_count": null,
      "outputs": [
        {
          "output_type": "execute_result",
          "data": {
            "text/plain": [
              "Index(['region', 'price', 'manufacturer', 'model', 'condition', 'cylinders',\n",
              "       'fuel', 'odometer', 'title_status', 'transmission', 'drive', 'size',\n",
              "       'type', 'paint_color', 'county', 'age'],\n",
              "      dtype='object')"
            ]
          },
          "metadata": {
            "tags": []
          },
          "execution_count": 48
        }
      ]
    },
    {
      "cell_type": "code",
      "metadata": {
        "colab": {
          "base_uri": "https://localhost:8080/",
          "height": 265
        },
        "id": "3nqTQXLn_xmh",
        "outputId": "f8b209bb-b032-42aa-a12c-95846e8935c0"
      },
      "source": [
        "col = 'paint_color'\n",
        "counts = df[col].fillna('others').value_counts()\n",
        "plt.plot(range(len(counts)), counts)\n",
        "plt.grid()"
      ],
      "execution_count": null,
      "outputs": [
        {
          "output_type": "display_data",
          "data": {
            "image/png": "[encoded data removed]",
            "text/plain": [
              "<Figure size 432x288 with 1 Axes>"
            ]
          },
          "metadata": {
            "tags": [],
            "needs_background": "light"
          }
        }
      ]
    },
    {
      "cell_type": "code",
      "metadata": {
        "id": "G5SopOwrBm7A"
      },
      "source": [
        "plt.plot(range(len(counts[:20])), counts[:20])"
      ],
      "execution_count": null,
      "outputs": []
    },
    {
      "cell_type": "code",
      "metadata": {
        "colab": {
          "base_uri": "https://localhost:8080/"
        },
        "id": "FfxfjtPhED1K",
        "outputId": "5aa7d381-44ef-48a4-90bb-cd855b3000c6"
      },
      "source": [
        "df[col].value_counts()"
      ],
      "execution_count": null,
      "outputs": [
        {
          "output_type": "execute_result",
          "data": {
            "text/plain": [
              "white     79285\n",
              "black     62861\n",
              "silver    42970\n",
              "blue      31223\n",
              "red       30473\n",
              "grey      24416\n",
              "green      7343\n",
              "custom     6700\n",
              "brown      6593\n",
              "yellow     2142\n",
              "orange     1984\n",
              "purple      687\n",
              "Name: paint_color, dtype: int64"
            ]
          },
          "metadata": {
            "tags": []
          },
          "execution_count": 93
        }
      ]
    },
    {
      "cell_type": "code",
      "metadata": {
        "id": "ezZk9tSqAgJS"
      },
      "source": [
        "n_categorical = 7\n",
        "others = counts.index[n_categorical:]\n",
        "df[col] = df[col].apply(lambda s : s if str(s) not in others else 'others' )"
      ],
      "execution_count": null,
      "outputs": []
    },
    {
      "cell_type": "code",
      "metadata": {
        "colab": {
          "base_uri": "https://localhost:8080/"
        },
        "id": "6urQK8hEBLJI",
        "outputId": "33d5eceb-d6c8-4f5a-ef3f-28ac24182493"
      },
      "source": [
        "df[col].value_counts()"
      ],
      "execution_count": null,
      "outputs": [
        {
          "output_type": "execute_result",
          "data": {
            "text/plain": [
              "others    155652\n",
              "white      79285\n",
              "black      62861\n",
              "silver     42970\n",
              "blue       31223\n",
              "red        30473\n",
              "grey       24416\n",
              "Name: paint_color, dtype: int64"
            ]
          },
          "metadata": {
            "tags": []
          },
          "execution_count": 98
        }
      ]
    },
    {
      "cell_type": "code",
      "metadata": {
        "id": "ft4Xq-viD3Gu"
      },
      "source": [
        "df[col] = df[col].fillna('others')"
      ],
      "execution_count": null,
      "outputs": []
    },
    {
      "cell_type": "code",
      "metadata": {
        "id": "Jeu8qTk3ETQv"
      },
      "source": [
        "df.loc[df[col] == 'other',col] = 'others'"
      ],
      "execution_count": null,
      "outputs": []
    },
    {
      "cell_type": "code",
      "metadata": {
        "id": "OMN4Eyn8DiEs"
      },
      "source": [
        "df = df.drop('title_status',axis = 1)"
      ],
      "execution_count": null,
      "outputs": []
    },
    {
      "cell_type": "markdown",
      "metadata": {
        "id": "2Z62otW9lgtX"
      },
      "source": [
        "### 문제 9. 수치형 데이터 시각화하여 분석하기"
      ]
    },
    {
      "cell_type": "code",
      "metadata": {
        "id": "NW-QEym6lgtX"
      },
      "source": [
        "# Seaborn을 이용하여 범주형 데이터를 시각화하여 분석하기\n",
        "# Hint) 값의 범위가 너무 넓을 경우 histplot() 등이 잘 동작하지 않으므로, rugplot을 활용\n",
        "\n",
        "\n"
      ],
      "execution_count": null,
      "outputs": []
    },
    {
      "cell_type": "code",
      "metadata": {
        "colab": {
          "base_uri": "https://localhost:8080/",
          "height": 189
        },
        "id": "5MjahL__FIMT",
        "outputId": "f86f1b6e-c50e-4c2c-9bca-4153647cfbdb"
      },
      "source": [
        "plt.figure(figsize=(8,2))\n",
        "sns.rugplot(x='price', data = df, height = 1)"
      ],
      "execution_count": null,
      "outputs": [
        {
          "output_type": "execute_result",
          "data": {
            "text/plain": [
              "<matplotlib.axes._subplots.AxesSubplot at 0x7f6316736ed0>"
            ]
          },
          "metadata": {
            "tags": []
          },
          "execution_count": 42
        },
        {
          "output_type": "display_data",
          "data": {
            "image/png": "[encoded data removed]",
            "text/plain": [
              "<Figure size 576x144 with 1 Axes>"
            ]
          },
          "metadata": {
            "tags": [],
            "needs_background": "light"
          }
        }
      ]
    },
    {
      "cell_type": "code",
      "metadata": {
        "colab": {
          "base_uri": "https://localhost:8080/",
          "height": 297
        },
        "id": "1FffyCkCFIMg",
        "outputId": "8f7424bb-f7e4-4a08-f504-759089de31f6"
      },
      "source": [
        "sns.rugplot(x='odometer', data = df, height = 0.1)"
      ],
      "execution_count": null,
      "outputs": [
        {
          "output_type": "execute_result",
          "data": {
            "text/plain": [
              "<matplotlib.axes._subplots.AxesSubplot at 0x7f6324543a50>"
            ]
          },
          "metadata": {
            "tags": []
          },
          "execution_count": 41
        },
        {
          "output_type": "display_data",
          "data": {
            "image/png": "[encoded data removed]",
            "text/plain": [
              "<Figure size 432x288 with 1 Axes>"
            ]
          },
          "metadata": {
            "tags": [],
            "needs_background": "light"
          }
        }
      ]
    },
    {
      "cell_type": "code",
      "metadata": {
        "colab": {
          "base_uri": "https://localhost:8080/",
          "height": 301
        },
        "id": "q48BvyhSFIMg",
        "outputId": "c8495748-72ab-4eb2-8256-3c73b51d56d1"
      },
      "source": [
        "sns.histplot(x='age', data = df, bins = 18, kde=True)"
      ],
      "execution_count": null,
      "outputs": [
        {
          "output_type": "execute_result",
          "data": {
            "text/plain": [
              "<matplotlib.axes._subplots.AxesSubplot at 0x7f63803d1d10>"
            ]
          },
          "metadata": {
            "tags": []
          },
          "execution_count": 45
        },
        {
          "output_type": "display_data",
          "data": {
            "image/png": "[encoded data removed]",
            "text/plain": [
              "<Figure size 432x288 with 1 Axes>"
            ]
          },
          "metadata": {
            "tags": [],
            "needs_background": "light"
          }
        }
      ]
    },
    {
      "cell_type": "markdown",
      "metadata": {
        "id": "xsd_T_h_lgtY"
      },
      "source": [
        "### 문제 10. 수치형 데이터 클리닝하기"
      ]
    },
    {
      "cell_type": "code",
      "metadata": {
        "id": "PRYiAxnKlgtY",
        "colab": {
          "base_uri": "https://localhost:8080/"
        },
        "outputId": "a1de4bd7-6c19-44a1-a7f7-0050072b76fc"
      },
      "source": [
        "# quantile() 메소드를 이용하여 outlier 제거하고 시각화하여 확인하기\n",
        "\n",
        "p1 = df['price'].quantile(0.99)\n",
        "p2 = df['price'].quantile(0.1)\n",
        "print(p1, p2)\n"
      ],
      "execution_count": null,
      "outputs": [
        {
          "output_type": "stream",
          "text": [
            "66995.0 500.0\n"
          ],
          "name": "stdout"
        }
      ]
    },
    {
      "cell_type": "code",
      "metadata": {
        "id": "FaRI3DRbGOSD"
      },
      "source": [
        "df = df[(p1 > df['price']) & (df['price'] > p2)]"
      ],
      "execution_count": null,
      "outputs": []
    },
    {
      "cell_type": "code",
      "metadata": {
        "colab": {
          "base_uri": "https://localhost:8080/"
        },
        "id": "vHveFw5nF9LA",
        "outputId": "0a288fb9-8174-4a2d-ae06-21e7b5ebe77b"
      },
      "source": [
        "o1 = df['odometer'].quantile(0.99)\n",
        "o2 = df['odometer'].quantile(0.1)\n",
        "\n",
        "print(o1, o2)"
      ],
      "execution_count": null,
      "outputs": [
        {
          "output_type": "stream",
          "text": [
            "280000.0 14939.0\n"
          ],
          "name": "stdout"
        }
      ]
    },
    {
      "cell_type": "code",
      "metadata": {
        "id": "n1BcOOxtGlAm"
      },
      "source": [
        "df = df[(o1 > df['odometer']) & (df['odometer'] > o2)]"
      ],
      "execution_count": null,
      "outputs": []
    },
    {
      "cell_type": "code",
      "metadata": {
        "colab": {
          "base_uri": "https://localhost:8080/",
          "height": 297
        },
        "id": "h9uKewMVGlKe",
        "outputId": "f8e7d700-a95c-4b4f-bd52-93d8a9c52562"
      },
      "source": [
        "df.describe()"
      ],
      "execution_count": null,
      "outputs": [
        {
          "output_type": "execute_result",
          "data": {
            "text/html": [
              "<div>\n",
              "<style scoped>\n",
              "    .dataframe tbody tr th:only-of-type {\n",
              "        vertical-align: middle;\n",
              "    }\n",
              "\n",
              "    .dataframe tbody tr th {\n",
              "        vertical-align: top;\n",
              "    }\n",
              "\n",
              "    .dataframe thead th {\n",
              "        text-align: right;\n",
              "    }\n",
              "</style>\n",
              "<table border=\"1\" class=\"dataframe\">\n",
              "  <thead>\n",
              "    <tr style=\"text-align: right;\">\n",
              "      <th></th>\n",
              "      <th>price</th>\n",
              "      <th>odometer</th>\n",
              "      <th>county</th>\n",
              "      <th>age</th>\n",
              "    </tr>\n",
              "  </thead>\n",
              "  <tbody>\n",
              "    <tr>\n",
              "      <th>count</th>\n",
              "      <td>338073.000000</td>\n",
              "      <td>338073.000000</td>\n",
              "      <td>0.0</td>\n",
              "      <td>337457.000000</td>\n",
              "    </tr>\n",
              "    <tr>\n",
              "      <th>mean</th>\n",
              "      <td>17618.115265</td>\n",
              "      <td>100771.015355</td>\n",
              "      <td>NaN</td>\n",
              "      <td>10.204921</td>\n",
              "    </tr>\n",
              "    <tr>\n",
              "      <th>std</th>\n",
              "      <td>12678.374523</td>\n",
              "      <td>57120.746792</td>\n",
              "      <td>NaN</td>\n",
              "      <td>8.489158</td>\n",
              "    </tr>\n",
              "    <tr>\n",
              "      <th>min</th>\n",
              "      <td>501.000000</td>\n",
              "      <td>14940.000000</td>\n",
              "      <td>NaN</td>\n",
              "      <td>-1.000000</td>\n",
              "    </tr>\n",
              "    <tr>\n",
              "      <th>25%</th>\n",
              "      <td>7495.000000</td>\n",
              "      <td>51933.000000</td>\n",
              "      <td>NaN</td>\n",
              "      <td>5.000000</td>\n",
              "    </tr>\n",
              "    <tr>\n",
              "      <th>50%</th>\n",
              "      <td>14599.000000</td>\n",
              "      <td>96281.000000</td>\n",
              "      <td>NaN</td>\n",
              "      <td>8.000000</td>\n",
              "    </tr>\n",
              "    <tr>\n",
              "      <th>75%</th>\n",
              "      <td>25590.000000</td>\n",
              "      <td>140000.000000</td>\n",
              "      <td>NaN</td>\n",
              "      <td>13.000000</td>\n",
              "    </tr>\n",
              "    <tr>\n",
              "      <th>max</th>\n",
              "      <td>66992.000000</td>\n",
              "      <td>279974.000000</td>\n",
              "      <td>NaN</td>\n",
              "      <td>121.000000</td>\n",
              "    </tr>\n",
              "  </tbody>\n",
              "</table>\n",
              "</div>"
            ],
            "text/plain": [
              "               price       odometer  county            age\n",
              "count  338073.000000  338073.000000     0.0  337457.000000\n",
              "mean    17618.115265  100771.015355     NaN      10.204921\n",
              "std     12678.374523   57120.746792     NaN       8.489158\n",
              "min       501.000000   14940.000000     NaN      -1.000000\n",
              "25%      7495.000000   51933.000000     NaN       5.000000\n",
              "50%     14599.000000   96281.000000     NaN       8.000000\n",
              "75%     25590.000000  140000.000000     NaN      13.000000\n",
              "max     66992.000000  279974.000000     NaN     121.000000"
            ]
          },
          "metadata": {
            "tags": []
          },
          "execution_count": 110
        }
      ]
    },
    {
      "cell_type": "code",
      "metadata": {
        "colab": {
          "base_uri": "https://localhost:8080/",
          "height": 355
        },
        "id": "TKDpfhGSHLP6",
        "outputId": "d86bb764-1362-4563-efef-45d311edddf4"
      },
      "source": [
        "plt.figure(figsize = (10,5))\n",
        "sns.boxplot(x='manufacturer', y='price', data = df)"
      ],
      "execution_count": null,
      "outputs": [
        {
          "output_type": "execute_result",
          "data": {
            "text/plain": [
              "<matplotlib.axes._subplots.AxesSubplot at 0x7f6307e1bbd0>"
            ]
          },
          "metadata": {
            "tags": []
          },
          "execution_count": 112
        },
        {
          "output_type": "display_data",
          "data": {
            "image/png": "[encoded data removed]",
            "text/plain": [
              "<Figure size 720x360 with 1 Axes>"
            ]
          },
          "metadata": {
            "tags": [],
            "needs_background": "light"
          }
        }
      ]
    },
    {
      "cell_type": "code",
      "metadata": {
        "colab": {
          "base_uri": "https://localhost:8080/",
          "height": 355
        },
        "id": "FhR_nPEmHbw_",
        "outputId": "4fe0c968-5cdc-49d4-e5bd-8c4e76a3462f"
      },
      "source": [
        "plt.figure(figsize = (10,5))\n",
        "sns.boxplot(x='model', y='price', data = df)"
      ],
      "execution_count": null,
      "outputs": [
        {
          "output_type": "execute_result",
          "data": {
            "text/plain": [
              "<matplotlib.axes._subplots.AxesSubplot at 0x7f6305f3ba10>"
            ]
          },
          "metadata": {
            "tags": []
          },
          "execution_count": 113
        },
        {
          "output_type": "display_data",
          "data": {
            "image/png": "[encoded data removed]",
            "text/plain": [
              "<Figure size 720x360 with 1 Axes>"
            ]
          },
          "metadata": {
            "tags": [],
            "needs_background": "light"
          }
        }
      ]
    },
    {
      "cell_type": "markdown",
      "metadata": {
        "id": "sWIF67-8lr4C"
      },
      "source": [
        "### 문제 11. 컬럼간의 Correlation Heatmap으로 시각화하기"
      ]
    },
    {
      "cell_type": "code",
      "metadata": {
        "id": "UO_gI6VjILer"
      },
      "source": [
        "df= df.drop('county', axis = 1)"
      ],
      "execution_count": null,
      "outputs": []
    },
    {
      "cell_type": "code",
      "metadata": {
        "id": "wVmEa1ChlrTc",
        "colab": {
          "base_uri": "https://localhost:8080/",
          "height": 287
        },
        "outputId": "88557277-6f4c-4295-8f50-a845e3c98faa"
      },
      "source": [
        "sns.heatmap(df.corr(), annot=True, cmap='YlOrRd')\n"
      ],
      "execution_count": null,
      "outputs": [
        {
          "output_type": "execute_result",
          "data": {
            "text/plain": [
              "<matplotlib.axes._subplots.AxesSubplot at 0x7f63081851d0>"
            ]
          },
          "metadata": {
            "tags": []
          },
          "execution_count": 117
        },
        {
          "output_type": "display_data",
          "data": {
            "image/png": "[encoded data removed]",
            "text/plain": [
              "<Figure size 432x288 with 2 Axes>"
            ]
          },
          "metadata": {
            "tags": [],
            "needs_background": "light"
          }
        }
      ]
    },
    {
      "cell_type": "markdown",
      "metadata": {
        "id": "FRfd7ABjepBS"
      },
      "source": [
        "## Step 4. 모델 학습을 위한 데이터 전처리 "
      ]
    },
    {
      "cell_type": "markdown",
      "metadata": {
        "id": "Dev2yLeMta85"
      },
      "source": [
        "### 문제 12. StandardScaler를 이용해 수치형 데이터 표준화하기\n"
      ]
    },
    {
      "cell_type": "code",
      "metadata": {
        "id": "_k_SDCh5xMgD"
      },
      "source": [
        "from sklearn.preprocessing import StandardScaler"
      ],
      "execution_count": null,
      "outputs": []
    },
    {
      "cell_type": "code",
      "metadata": {
        "colab": {
          "base_uri": "https://localhost:8080/"
        },
        "id": "nhi0RitmIZvS",
        "outputId": "8623e843-4a20-415b-da3d-503a8e9278ad"
      },
      "source": [
        "df.columns"
      ],
      "execution_count": null,
      "outputs": [
        {
          "output_type": "execute_result",
          "data": {
            "text/plain": [
              "Index(['region', 'price', 'manufacturer', 'model', 'condition', 'cylinders',\n",
              "       'fuel', 'odometer', 'transmission', 'drive', 'size', 'type',\n",
              "       'paint_color', 'age'],\n",
              "      dtype='object')"
            ]
          },
          "metadata": {
            "tags": []
          },
          "execution_count": 119
        }
      ]
    },
    {
      "cell_type": "code",
      "metadata": {
        "id": "W3EO22NCE3wG"
      },
      "source": [
        "# StandardScaler를 이용해 수치형 데이터를 표준화하기\n",
        "scaler = StandardScaler()\n",
        "X_num = df[['odometer', 'age']]\n",
        "\n",
        "scaler.fit(X_num)\n",
        "X_scaled = scaler.transform(X_num)\n",
        "X_scaled = pd.DataFrame(X_scaled, index = X_num.index, columns = X_num.columns)\n",
        "\n",
        "# get_dummies를 이용해 범주형 데이터를 one-hot 벡터로 변경하기\n",
        "X_cat = df.drop(['price', 'odometer','age'], axis = 1)\n",
        "X_cat = pd.get_dummies(X_cat)\n",
        "\n",
        "# 입출력 데이터 통합하기\n",
        "X = pd.concat([X_scaled, X_cat], axis = 1)\n",
        "y = df['price']"
      ],
      "execution_count": null,
      "outputs": []
    },
    {
      "cell_type": "code",
      "metadata": {
        "colab": {
          "base_uri": "https://localhost:8080/"
        },
        "id": "CXFcrRL1JW_U",
        "outputId": "fde908d3-2786-421a-a85f-c7fdf71d83f2"
      },
      "source": [
        "X.shape"
      ],
      "execution_count": null,
      "outputs": [
        {
          "output_type": "execute_result",
          "data": {
            "text/plain": [
              "(338073, 61)"
            ]
          },
          "metadata": {
            "tags": []
          },
          "execution_count": 125
        }
      ]
    },
    {
      "cell_type": "code",
      "metadata": {
        "colab": {
          "base_uri": "https://localhost:8080/"
        },
        "id": "V9jHVA7dJg9b",
        "outputId": "697d0c87-8820-46a7-8382-003415f6a5f6"
      },
      "source": [
        "X.isna().sum()"
      ],
      "execution_count": null,
      "outputs": [
        {
          "output_type": "execute_result",
          "data": {
            "text/plain": [
              "odometer                 0\n",
              "age                    616\n",
              "region_columbus          0\n",
              "region_eugene            0\n",
              "region_jacksonville      0\n",
              "                      ... \n",
              "paint_color_grey         0\n",
              "paint_color_others       0\n",
              "paint_color_red          0\n",
              "paint_color_silver       0\n",
              "paint_color_white        0\n",
              "Length: 61, dtype: int64"
            ]
          },
          "metadata": {
            "tags": []
          },
          "execution_count": 126
        }
      ]
    },
    {
      "cell_type": "code",
      "metadata": {
        "id": "CeX2uSTjJjw1"
      },
      "source": [
        "X = X.fillna(0.0)"
      ],
      "execution_count": null,
      "outputs": []
    },
    {
      "cell_type": "markdown",
      "metadata": {
        "id": "x93Tb6lptcA2"
      },
      "source": [
        "### 문제 13. 학습데이터와 테스트데이터 분리하기\n"
      ]
    },
    {
      "cell_type": "code",
      "metadata": {
        "id": "C9kMQI8SEche"
      },
      "source": [
        "from sklearn.model_selection import train_test_split"
      ],
      "execution_count": null,
      "outputs": []
    },
    {
      "cell_type": "code",
      "metadata": {
        "id": "F07QjOFwFNEw"
      },
      "source": [
        "# train_test_split() 함수로 학습 데이터와 테스트 데이터 분리하기\n",
        "X_train, X_test, y_train, y_test = train_test_split(X, y, test_size= 0.3, random_state = 1)"
      ],
      "execution_count": null,
      "outputs": []
    },
    {
      "cell_type": "markdown",
      "metadata": {
        "id": "RrWrE8Z4exup"
      },
      "source": [
        "## Step 5. Regression 모델 학습하기"
      ]
    },
    {
      "cell_type": "markdown",
      "metadata": {
        "id": "NypEtNhdfCow"
      },
      "source": [
        "### 문제 14. XGBoost Regression 모델 학습하기"
      ]
    },
    {
      "cell_type": "code",
      "metadata": {
        "id": "ow28ZRL4F7D5"
      },
      "source": [
        "from xgboost import XGBRegressor"
      ],
      "execution_count": null,
      "outputs": []
    },
    {
      "cell_type": "code",
      "metadata": {
        "id": "LSSNqFUrGM6R",
        "colab": {
          "base_uri": "https://localhost:8080/"
        },
        "outputId": "0236a0ad-6653-4617-a0e8-7ce7d76159bc"
      },
      "source": [
        "# XGBRegressor 모델 생성/학습\n",
        "model_reg = XGBRegressor()\n",
        "model_reg.fit(X_train, y_train)"
      ],
      "execution_count": null,
      "outputs": [
        {
          "output_type": "stream",
          "text": [
            "[08:52:46] WARNING: /workspace/src/objective/regression_obj.cu:152: reg:linear is now deprecated in favor of reg:squarederror.\n"
          ],
          "name": "stdout"
        },
        {
          "output_type": "execute_result",
          "data": {
            "text/plain": [
              "XGBRegressor(base_score=0.5, booster='gbtree', colsample_bylevel=1,\n",
              "             colsample_bynode=1, colsample_bytree=1, gamma=0,\n",
              "             importance_type='gain', learning_rate=0.1, max_delta_step=0,\n",
              "             max_depth=3, min_child_weight=1, missing=None, n_estimators=100,\n",
              "             n_jobs=1, nthread=None, objective='reg:linear', random_state=0,\n",
              "             reg_alpha=0, reg_lambda=1, scale_pos_weight=1, seed=None,\n",
              "             silent=None, subsample=1, verbosity=1)"
            ]
          },
          "metadata": {
            "tags": []
          },
          "execution_count": 133
        }
      ]
    },
    {
      "cell_type": "markdown",
      "metadata": {
        "id": "gUo8NmHkfIpf"
      },
      "source": [
        "### 문제 15. 모델 학습 결과 평가하기"
      ]
    },
    {
      "cell_type": "code",
      "metadata": {
        "id": "rxvf1vgmfLs-"
      },
      "source": [
        "from sklearn.metrics import mean_absolute_error, mean_squared_error\n",
        "from math import sqrt"
      ],
      "execution_count": null,
      "outputs": []
    },
    {
      "cell_type": "code",
      "metadata": {
        "id": "KDVy7fFGfUP1",
        "colab": {
          "base_uri": "https://localhost:8080/"
        },
        "outputId": "0d51d3ce-8028-46d6-ecb1-16c042849ef2"
      },
      "source": [
        "# Predict를 수행하고 mean_absolute_error, rmse 결과 출력하기\n",
        "pred = model_reg.predict(X_test)\n",
        "print(mean_absolute_error(y_test, pred))\n",
        "print(mean_squared_error(y_test, pred))"
      ],
      "execution_count": null,
      "outputs": [
        {
          "output_type": "stream",
          "text": [
            "4529.728242725385\n",
            "44903373.28378096\n"
          ],
          "name": "stdout"
        }
      ]
    },
    {
      "cell_type": "code",
      "metadata": {
        "id": "g_dK22ZA7Gpo"
      },
      "source": [
        ""
      ],
      "execution_count": null,
      "outputs": []
    },
    {
      "cell_type": "markdown",
      "metadata": {
        "id": "DTqb-HqPtc4I"
      },
      "source": [
        "## Step 6. 모델 학습 결과 심화 분석하기\n"
      ]
    },
    {
      "cell_type": "markdown",
      "metadata": {
        "id": "xTRTOLTNto3h"
      },
      "source": [
        "### 문제 16. 실제 값과 추측 값의 Scatter plot 시각화하기\n"
      ]
    },
    {
      "cell_type": "code",
      "metadata": {
        "id": "kKEP06-OmrBs",
        "colab": {
          "base_uri": "https://localhost:8080/",
          "height": 283
        },
        "outputId": "407eec07-15f1-4899-9729-c4e042d135c0"
      },
      "source": [
        "# y_test vs. pred Scatter 플랏으로 시각적으로 분석하기\n",
        "# Hint) Scatter로 시각적 확인이 어려울 경우, histplot 등 활용\n",
        "plt.scatter(x = y_test, y=pred, alpha=0.005)\n",
        "plt.plot([0, 70000], [0, 70000], 'r-')"
      ],
      "execution_count": null,
      "outputs": [
        {
          "output_type": "execute_result",
          "data": {
            "text/plain": [
              "[<matplotlib.lines.Line2D at 0x7f63055fd750>]"
            ]
          },
          "metadata": {
            "tags": []
          },
          "execution_count": 141
        },
        {
          "output_type": "display_data",
          "data": {
            "image/png": "[encoded data removed]",
            "text/plain": [
              "<Figure size 432x288 with 1 Axes>"
            ]
          },
          "metadata": {
            "tags": [],
            "needs_background": "light"
          }
        }
      ]
    },
    {
      "cell_type": "code",
      "metadata": {
        "colab": {
          "base_uri": "https://localhost:8080/",
          "height": 297
        },
        "id": "0ezHVGtTNFJW",
        "outputId": "32d8c25e-5c59-4ca9-cde3-206343a436a9"
      },
      "source": [
        "sns.histplot(x=y_test, y=pred)\n",
        "plt.plot([0,70000], [0,70000] , 'r-')"
      ],
      "execution_count": null,
      "outputs": [
        {
          "output_type": "execute_result",
          "data": {
            "text/plain": [
              "[<matplotlib.lines.Line2D at 0x7f634dd2e890>]"
            ]
          },
          "metadata": {
            "tags": []
          },
          "execution_count": 148
        },
        {
          "output_type": "display_data",
          "data": {
            "image/png": "[encoded data removed]",
            "text/plain": [
              "<Figure size 432x288 with 1 Axes>"
            ]
          },
          "metadata": {
            "tags": [],
            "needs_background": "light"
          }
        }
      ]
    },
    {
      "cell_type": "markdown",
      "metadata": {
        "id": "kAisZoSEtp35"
      },
      "source": [
        "### 문제 17. 에러 값의 히스토그램 확인하기\n"
      ]
    },
    {
      "cell_type": "code",
      "metadata": {
        "id": "WLnyYNJwGRgd",
        "colab": {
          "base_uri": "https://localhost:8080/",
          "height": 297
        },
        "outputId": "164ceb98-1cab-4cf1-ef61-07d05a08cd27"
      },
      "source": [
        "# err의 히스토그램으로 에러율 히스토그램 확인하기\n",
        "err = (pred - y_test) / y_test\n",
        "\n",
        "sns.histplot(data = err)"
      ],
      "execution_count": null,
      "outputs": [
        {
          "output_type": "execute_result",
          "data": {
            "text/plain": [
              "<matplotlib.axes._subplots.AxesSubplot at 0x7f6305540610>"
            ]
          },
          "metadata": {
            "tags": []
          },
          "execution_count": 142
        },
        {
          "output_type": "display_data",
          "data": {
            "image/png": "[encoded data removed]",
            "text/plain": [
              "<Figure size 432x288 with 1 Axes>"
            ]
          },
          "metadata": {
            "tags": [],
            "needs_background": "light"
          }
        }
      ]
    },
    {
      "cell_type": "code",
      "metadata": {
        "colab": {
          "base_uri": "https://localhost:8080/",
          "height": 265
        },
        "id": "bp3uwRbEL9Md",
        "outputId": "0fc3df15-4349-4221-d9cb-bb7b21326b02"
      },
      "source": [
        "plt.hist(err[err<6], bins = 120)\n",
        "plt.show()"
      ],
      "execution_count": null,
      "outputs": [
        {
          "output_type": "display_data",
          "data": {
            "image/png": "[encoded data removed]",
            "text/plain": [
              "<Figure size 432x288 with 1 Axes>"
            ]
          },
          "metadata": {
            "tags": [],
            "needs_background": "light"
          }
        }
      ]
    },
    {
      "cell_type": "code",
      "metadata": {
        "colab": {
          "base_uri": "https://localhost:8080/",
          "height": 279
        },
        "id": "jPo8Lp5aL6L9",
        "outputId": "eea1c127-9c51-4b7a-e919-1821144e5397"
      },
      "source": [
        "err = (pred - y_test) / y_test * 100\n",
        "sns.histplot(err)\n",
        "plt.xlabel('err(%)')\n",
        "plt.xlim(-100, 100)\n",
        "plt.grid()"
      ],
      "execution_count": null,
      "outputs": [
        {
          "output_type": "display_data",
          "data": {
            "image/png": "[encoded data removed]",
            "text/plain": [
              "<Figure size 432x288 with 1 Axes>"
            ]
          },
          "metadata": {
            "tags": [],
            "needs_background": "light"
          }
        }
      ]
    },
    {
      "cell_type": "code",
      "metadata": {
        "colab": {
          "base_uri": "https://localhost:8080/",
          "height": 279
        },
        "id": "7iBCXOeKMtIl",
        "outputId": "06c38099-24d7-473d-93e5-a90ddb3e2d50"
      },
      "source": [
        "err = pred - y_test\n",
        "sns.histplot(err)\n",
        "plt.xlabel('err($)')\n",
        "plt.grid()"
      ],
      "execution_count": null,
      "outputs": [
        {
          "output_type": "display_data",
          "data": {
            "image/png": "[encoded data removed]",
            "text/plain": [
              "<Figure size 432x288 with 1 Axes>"
            ]
          },
          "metadata": {
            "tags": [],
            "needs_background": "light"
          }
        }
      ]
    },
    {
      "cell_type": "code",
      "metadata": {
        "id": "Z7DlBxWWNZf4"
      },
      "source": [
        ""
      ],
      "execution_count": null,
      "outputs": []
    }
  ]
}